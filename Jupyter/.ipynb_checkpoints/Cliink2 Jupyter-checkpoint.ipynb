{
 "cells": [
  {
   "cell_type": "markdown",
   "metadata": {},
   "source": [
    "# <p style=\"font-family: serif; font-size:2.2em; text-align: center;\"><u>Analyse des données</u></p> "
   ]
  },
  {
   "cell_type": "markdown",
   "metadata": {},
   "source": [
    "# <p style=\"font-family: serif; font-size:2.2em; text-align: center;\"><u>Nettoyage des données</u></p> "
   ]
  },
  {
   "cell_type": "markdown",
   "metadata": {},
   "source": [
    "# Analyse des jeux de données data_sig_collecte\n",
    "Ce document analyse les jeux de données provenant de l'INSEE disponible [ici](../Data)\n",
    "\n",
    "Il ya 4 jeux de données :\n",
    "\n",
    "* villes_data\n",
    "* etablissements\n",
    "* naf2008_5_niveaux\n",
    "* naf2008_liste_n1"
   ]
  },
  {
   "cell_type": "markdown",
   "metadata": {},
   "source": [
    "## Importation des librairies"
   ]
  },
  {
   "cell_type": "code",
   "execution_count": 3,
   "metadata": {},
   "outputs": [],
   "source": [
    "import pandas as pd"
   ]
  },
  {
   "cell_type": "code",
   "execution_count": 4,
   "metadata": {},
   "outputs": [],
   "source": [
    "# Lecture du fichier data_villes\n",
    "#entreprises_par_sa = pd.read_csv(\"../Data/villes_data.csv\", header=1 ,encoding=\"UTF-8\", sep=',', skiprows=list(range(0, 2)) + list(range(14, 245)), usecols=[i for i in range(12)])\n",
    "#entreprises_par_sa_ef = pd.read_csv(\"../Data/villes_data.csv\", header=16 ,encoding=\"UTF-8\", sep=',', skiprows=list(range(15, 19)) + list(range(28, 245)), usecols=[i for i in range(31)])\n",
    "pop_année = pd.read_csv(\"../Data/villes_data.csv\", header=30 ,encoding=\"UTF-8\", sep=',', skiprows=list(range(29, 34)) + list(range(37, 245)), usecols=[i for i in range(14)])\n",
    "pop_nbre_age = pd.read_csv(\"../Data/villes_data.csv\", header=39 ,encoding=\"UTF-8\", sep=',', skiprows=list(range(38, 41)) + list(range(50, 245)), usecols=[i for i in range(13)])\n",
    "CSP_15_24 = pd.read_csv(\"../Data/villes_data.csv\", header=84 ,encoding=\"UTF-8\", sep=',', skiprows=list(range(83, 88)) + list(range(99, 245)), usecols=[i for i in range(6)])\n",
    "CSP_25_54 = pd.read_csv(\"../Data/villes_data.csv\", header=101 ,encoding=\"UTF-8\", sep=',', skiprows=list(range(100, 105)) + list(range(116, 245)), usecols=[i for i in range(6)])\n",
    "CSP_55_plus = pd.read_csv(\"../Data/villes_data.csv\", header=118 ,encoding=\"UTF-8\", sep=',', skiprows=list(range(117, 122)) + list(range(133, 245)), usecols=[i for i in range(6)])\n",
    "logement_par_catégorie = pd.read_csv(\"../Data/villes_data.csv\", header=220 ,encoding=\"UTF-8\", sep=',', skiprows=list(range(219, 224)) + list(range(230, 245)), usecols=[i for i in range(7)])\n",
    "\n",
    "# Lecture du fichier établissement\n",
    "entreprise_csv = pd.read_csv(\"../Data/etablissements.csv\")\n",
    "\n",
    "# Lecture du fichier code naf\n",
    "code_naf = pd.read_excel(\"../Data/naf2008_liste_n1.xls\", skiprows=list(range(0, 2)))\n",
    "\n",
    "# Lecture du fichier code naf niveau 5\n",
    "naf_5 = pd.read_excel(\"../Data/naf2008_5_niveaux.xls\")\n",
    "\n",
    "# On modifie le nombre de lignes à afficher\n",
    "pd.options.display.max_rows = 5"
   ]
  },
  {
   "cell_type": "markdown",
   "metadata": {},
   "source": [
    "## Jeu de données des villes\n",
    "### Aperçu du fichier\n",
    "\n",
    "Il contient 28 variables que l'on pourra étudier :\n",
    "\n",
    "* pop_année : la population par ville établit par l'INSEE en 2017 (l'INSEE établit ses études tout les cinq ans en moyennes, la dernières étant en 2017)\n",
    "* pop_nbre_age : "
   ]
  },
  {
   "cell_type": "markdown",
   "metadata": {},
   "source": [
    "### Dimension du jeu de données"
   ]
  },
  {
   "cell_type": "code",
   "execution_count": null,
   "metadata": {},
   "outputs": [],
   "source": [
    " print(\"Le jeu de données recense\", dataDecheterie.shape[0], \"déchèteries avec\", dataDecheterie.shape[1], \"variables\")"
   ]
  },
  {
   "cell_type": "markdown",
   "metadata": {},
   "source": [
    "### Valeurs manquantes\n",
    "Le jeu de données est complet\n",
    "\n",
    "Aucune des déchèteries ne possède de valeur pour les colonnes id, adresse_comp, date_instal et observations\n"
   ]
  },
  {
   "cell_type": "code",
   "execution_count": null,
   "metadata": {},
   "outputs": [],
   "source": [
    "dataDecheterie.isna().sum()"
   ]
  },
  {
   "cell_type": "markdown",
   "metadata": {},
   "source": [
    "### Décompte des doublons"
   ]
  },
  {
   "cell_type": "code",
   "execution_count": null,
   "metadata": {},
   "outputs": [],
   "source": [
    "dataDecheterie.duplicated().sum()"
   ]
  },
  {
   "cell_type": "code",
   "execution_count": null,
   "metadata": {},
   "outputs": [],
   "source": []
  },
  {
   "cell_type": "code",
   "execution_count": null,
   "metadata": {},
   "outputs": [],
   "source": []
  },
  {
   "cell_type": "code",
   "execution_count": null,
   "metadata": {},
   "outputs": [],
   "source": []
  },
  {
   "cell_type": "code",
   "execution_count": null,
   "metadata": {},
   "outputs": [],
   "source": []
  },
  {
   "cell_type": "code",
   "execution_count": null,
   "metadata": {},
   "outputs": [],
   "source": []
  },
  {
   "cell_type": "code",
   "execution_count": null,
   "metadata": {},
   "outputs": [],
   "source": []
  },
  {
   "cell_type": "code",
   "execution_count": null,
   "metadata": {},
   "outputs": [],
   "source": []
  },
  {
   "cell_type": "code",
   "execution_count": null,
   "metadata": {},
   "outputs": [],
   "source": []
  },
  {
   "cell_type": "code",
   "execution_count": null,
   "metadata": {},
   "outputs": [],
   "source": []
  },
  {
   "cell_type": "code",
   "execution_count": null,
   "metadata": {},
   "outputs": [],
   "source": []
  },
  {
   "cell_type": "code",
   "execution_count": null,
   "metadata": {},
   "outputs": [],
   "source": []
  },
  {
   "cell_type": "code",
   "execution_count": null,
   "metadata": {},
   "outputs": [],
   "source": []
  },
  {
   "cell_type": "code",
   "execution_count": null,
   "metadata": {},
   "outputs": [],
   "source": []
  },
  {
   "cell_type": "code",
   "execution_count": null,
   "metadata": {},
   "outputs": [],
   "source": []
  },
  {
   "cell_type": "code",
   "execution_count": null,
   "metadata": {},
   "outputs": [],
   "source": []
  }
 ],
 "metadata": {
  "kernelspec": {
   "display_name": "Python 3",
   "language": "python",
   "name": "python3"
  },
  "language_info": {
   "codemirror_mode": {
    "name": "ipython",
    "version": 3
   },
   "file_extension": ".py",
   "mimetype": "text/x-python",
   "name": "python",
   "nbconvert_exporter": "python",
   "pygments_lexer": "ipython3",
   "version": "3.7.6"
  }
 },
 "nbformat": 4,
 "nbformat_minor": 4
}
