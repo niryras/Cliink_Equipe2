{
 "cells": [
  {
   "cell_type": "markdown",
   "metadata": {},
   "source": [
    "---"
   ]
  },
  {
   "cell_type": "markdown",
   "metadata": {},
   "source": [
    "# <p style=\"font-family: serif; font-size:2.2em; text-align: center;\"><u>Analyse des jeux de données data</u></p> "
   ]
  },
  {
   "cell_type": "markdown",
   "metadata": {},
   "source": [
    "Ce document analyse les jeux de données fournies par la l'INSEE et par Data Gouv disponible ici"
   ]
  },
  {
   "cell_type": "markdown",
   "metadata": {},
   "source": [
    "---"
   ]
  },
  {
   "cell_type": "markdown",
   "metadata": {},
   "source": [
    "# Présentation projet Cliiink2"
   ]
  },
  {
   "cell_type": "markdown",
   "metadata": {},
   "source": [
    "Dans la continuité du projet Cliiink, nous avons cherché de nouveaux jeux de données afin qu'une analyse socio-démographique puisse etre établie en fonction de chacune des villes de l'agglomération.\n",
    "\n",
    "Nous avons repris les données de la population par ville, et nous les avons confrontés avec d'autres facteurs sociaux tels que les catégories socio-professionnelles ou le type de logement par ville. \n",
    "L'idée étant de comparer ces différents critères sociaux afin de faire ressortir un compte rendu par ville, et de comparer le tout avec le premier projet CLiiink. \n",
    "Cette conmparaison nous a permit de mettre en valeur la production plus ou moins importante de déchets selon la ville, en fonction de la catégorie initiallement étudiée.\n",
    "\n",
    "Les données collectées proviennent majoritairement de l'Institut National de la Statistique et des Etudes Economiques.\n",
    "À noter que l'INSEE établit ses études par cycle d'année. A titre d'exmple, la dernière étude menée pour établir la démographie de la population des villes de l'agglomération a été faite en 2017. Il s'agit donc du dernier jeu de données disponible et publié par l'organisme.\n",
    "\n",
    "Pour des raisons de pratiques, nous modifions l'affichage d'origine des csv en indiquant les colonnes et les lignes qui nous intéresse. Nous pouvons ainsi focaliser notre études en retenant uniquement les données utiles à notre projet.\n",
    "L'idée est d'afficher le résulat recherché de facon clair. L'INSEE étant un organisme publiant des données de niveau nationale, nous avons isolé du jeu de données uniquement les données qui nous intéresse, et les avons classés dans nos dataframes."
   ]
  },
  {
   "cell_type": "markdown",
   "metadata": {},
   "source": [
    "# Analyse des jeux de données data_sig_collecte"
   ]
  },
  {
   "cell_type": "markdown",
   "metadata": {},
   "source": [
    "Ce document analyse les jeux de données que nous sommes allé chercher auprès de l'INSEE et de Data Gouv.\n",
    "\n",
    "Il y a 4 jeux de données que nous avons utilisé :\n",
    "    \n",
    "* villes_data\n",
    "* etablissements.csv\n",
    "* naf2008_liste_n1\n",
    "* naf2008_5_niveaux"
   ]
  },
  {
   "cell_type": "markdown",
   "metadata": {},
   "source": [
    "### Importation des librairies"
   ]
  },
  {
   "cell_type": "code",
   "execution_count": 5,
   "metadata": {},
   "outputs": [],
   "source": [
    "import pandas as pd\n",
    "import json\n",
    "from sqlalchemy import create_engine\n",
    "from main import Bin_"
   ]
  },
  {
   "cell_type": "markdown",
   "metadata": {},
   "source": [
    "### Lecture dus fichiers"
   ]
  },
  {
   "cell_type": "code",
   "execution_count": 3,
   "metadata": {},
   "outputs": [
    {
     "name": "stderr",
     "output_type": "stream",
     "text": [
      "/home/simplon/anaconda3/lib/python3.7/site-packages/IPython/core/interactiveshell.py:3063: DtypeWarning: Columns (18,19,47,54,56,71) have mixed types.Specify dtype option on import or set low_memory=False.\n",
      "  interactivity=interactivity, compiler=compiler, result=result)\n"
     ]
    }
   ],
   "source": [
    "#data_villes = pd.read_csv(\"/Users/a0000/Desktop/Cliink_Equipe2/Data/villes_data.csv\", index_col= 0, sep=';', skiprows=0)\n",
    "#entreprises_par_sa = pd.read_csv(\"/Users/a0000/Desktop/Cliink_Equipe2/Data/villes_data.csv\", header=1 ,encoding=\"UTF-8\", sep=',', skiprows=list(range(0, 2)) + list(range(14, 245)), usecols=[i for i in range(12)])\n",
    "#entreprises_par_sa_ef = pd.read_csv(\"/Users/a0000/Desktop/Cliink_Equipe2/Data/villes_data.csv\", header=16 ,encoding=\"UTF-8\", sep=',', skiprows=list(range(15, 19)) + list(range(28, 245)), usecols=[i for i in range(31)])\n",
    "#année_2017 = pd.read_csv(\"/Users/a0000/Desktop/Cliink_Equipe2/Data/villes_data.csv\", header=30 ,encoding=\"UTF-8\", sep=',', skiprows=list(range(29, 34)) + list(range(37, 245)), usecols=[i for i in range(14)])\n",
    "#pop_age = pd.read_csv(\"/Users/a0000/Desktop/Cliink_Equipe2/Data/villes_data.csv\", header=39 ,encoding=\"UTF-8\", sep=',', skiprows=list(range(38, 41)) + list(range(50, 245)), usecols=[i for i in range(13)])\n",
    "#emploi_femme = pd.read_csv(\"/Users/a0000/Desktop/Cliink_Equipe2/Data/villes_data.csv\", header=145 ,encoding=\"UTF-8\", sep=',', skiprows=list(range(145, 150)) + list(range(161, 245)), usecols=[i for i in range(7)])\n",
    "#emploi_homme = pd.read_csv(\"/Users/a0000/Desktop/Cliink_Equipe2/Data/villes_data.csv\", header=162 ,encoding=\"UTF-8\", sep=',', skiprows=list(range(162, 167)) + list(range(178, 245)), usecols=[i for i in range(7)])\n",
    "#chomage_sexe = pd.read_csv(\"/Users/a0000/Desktop/Cliink_Equipe2/Data/villes_data.csv\", header=179 ,encoding=\"UTF-8\", sep=',', skiprows=list(range(179, 184)) + list(range(190, 245)), usecols=[i for i in range(7)])\n",
    "#taux_chomage_age = pd.read_csv(\"/Users/a0000/Desktop/Cliink_Equipe2/Data/villes_data.csv\", header=192 ,encoding=\"UTF-8\", sep=',', skiprows=list(range(191, 196)) + list(range(202, 245)), usecols=[i for i in range(13)])\n",
    "CSP_15_24 = pd.read_csv(\"../Data/villes_data.csv\", header=84 ,encoding=\"UTF-8\", sep=',', skiprows=list(range(83, 88)) + list(range(99, 245)), usecols=[i for i in range(6)])\n",
    "CSP_25_54 = pd.read_csv(\"../Data/villes_data.csv\", header=101 ,encoding=\"UTF-8\", sep=',', skiprows=list(range(100, 105)) + list(range(116, 245)), usecols=[i for i in range(6)])\n",
    "CSP_55_plus = pd.read_csv(\"../Data/villes_data.csv\", header=118 ,encoding=\"UTF-8\", sep=',', skiprows=list(range(117, 122)) + list(range(133, 245)), usecols=[i for i in range(6)])\n",
    "logement_par_catégorie = pd.read_csv(\"../Data/villes_data.csv\", header=220 ,encoding=\"UTF-8\", sep=',', skiprows=list(range(219, 224)) + list(range(230, 245)), usecols=[i for i in range(7)])\n",
    "entreprise_csv = pd.read_csv(\"../Data/etablissements.csv\")\n",
    "code_naf = pd.read_excel(\"../Data/naf2008_liste_n1.xls\", skiprows=list(range(0, 2)))\n",
    "naf_5 = pd.read_excel(\"../Data/naf2008_5_niveaux.xls\")\n",
    "\n",
    "# On importe le fichier json pour rendre anonyme l'entrée de nos données personnelles lors de la connexion avec la base de données \n",
    "fichierConfig = \"../Data/config.json\" \n",
    "with open(fichierConfig) as fichier:config = json.load(fichier)[\"mysql\"]\n",
    "    \n",
    "# On indique le nombre de lignes à afficher\n",
    "#pd.options.display.max_rows = 5"
   ]
  },
  {
   "cell_type": "markdown",
   "metadata": {},
   "source": [
    "---"
   ]
  },
  {
   "cell_type": "markdown",
   "metadata": {},
   "source": [
    "## Retour sur les décisons prises dans la sélection des csv"
   ]
  },
  {
   "cell_type": "markdown",
   "metadata": {},
   "source": [
    "Le csv \"data_villes\" n'a pas été retenu pour le projet car il concerne uniquement les données des entreprises fondées en l'année 2020. \n",
    "Or pour que notre étude soit plus pertinente, nous avons jugé judiciable de travailler sur l'ensemble des entreprises de l'agglomération, et non pas uniquement celles crée récemment.\n",
    "\n",
    "Après analyse de nos besoins, les csv suivants ne se sont pas révélés adéquats pour l'étude que l'on a voulu mené:\n",
    "\n",
    "* année_2017\n",
    "* pop_age\n",
    "* emploi_femme\n",
    "* emploi_homme\n",
    "* chomage_sexe\n",
    "* taux_chomage_age\n",
    "\n",
    "Par ailleurs, les csv \"entreprises_par_sa\" et \"entreprises_par_sa_ef\" ont été remplacés par le csv \"entreprise_csv\", plus complet et précis."
   ]
  },
  {
   "cell_type": "markdown",
   "metadata": {},
   "source": [
    "---"
   ]
  },
  {
   "cell_type": "markdown",
   "metadata": {},
   "source": [
    "# Jeu de données des CSP_15_24"
   ]
  },
  {
   "cell_type": "markdown",
   "metadata": {},
   "source": [
    "### Aperçu du fichier"
   ]
  },
  {
   "cell_type": "markdown",
   "metadata": {},
   "source": [
    "Il contient 6 variables que l'on pourra étudier :\n",
    "\n",
    "* catégorie\n",
    "* Mandelieu-La-Napoule\n",
    "* Mougins\n",
    "* Le Cannet\n",
    "* Cannes\n",
    "* Theoule-Sur-Mer"
   ]
  },
  {
   "cell_type": "code",
   "execution_count": 22,
   "metadata": {},
   "outputs": [
    {
     "data": {
      "text/html": [
       "<div>\n",
       "<style scoped>\n",
       "    .dataframe tbody tr th:only-of-type {\n",
       "        vertical-align: middle;\n",
       "    }\n",
       "\n",
       "    .dataframe tbody tr th {\n",
       "        vertical-align: top;\n",
       "    }\n",
       "\n",
       "    .dataframe thead th {\n",
       "        text-align: right;\n",
       "    }\n",
       "</style>\n",
       "<table border=\"1\" class=\"dataframe\">\n",
       "  <thead>\n",
       "    <tr style=\"text-align: right;\">\n",
       "      <th></th>\n",
       "      <th>Catégorie</th>\n",
       "      <th>Mandelieu-La-Napoule</th>\n",
       "      <th>Mougins</th>\n",
       "      <th>Le Cannet</th>\n",
       "      <th>Cannes</th>\n",
       "      <th>Theoule-Sur-Mer</th>\n",
       "    </tr>\n",
       "  </thead>\n",
       "  <tbody>\n",
       "    <tr>\n",
       "      <th>0</th>\n",
       "      <td>Agriculteurs exploitants</td>\n",
       "      <td>0</td>\n",
       "      <td>0</td>\n",
       "      <td>0</td>\n",
       "      <td>0</td>\n",
       "      <td>0</td>\n",
       "    </tr>\n",
       "    <tr>\n",
       "      <th>1</th>\n",
       "      <td>Artisans. commerçants. chefs entreprise</td>\n",
       "      <td>16</td>\n",
       "      <td>34</td>\n",
       "      <td>26</td>\n",
       "      <td>40</td>\n",
       "      <td>5</td>\n",
       "    </tr>\n",
       "    <tr>\n",
       "      <th>...</th>\n",
       "      <td>...</td>\n",
       "      <td>...</td>\n",
       "      <td>...</td>\n",
       "      <td>...</td>\n",
       "      <td>...</td>\n",
       "      <td>...</td>\n",
       "    </tr>\n",
       "    <tr>\n",
       "      <th>7</th>\n",
       "      <td>Autres personnes sans activité professionnelle</td>\n",
       "      <td>1000</td>\n",
       "      <td>1049</td>\n",
       "      <td>2128</td>\n",
       "      <td>4519</td>\n",
       "      <td>63</td>\n",
       "    </tr>\n",
       "    <tr>\n",
       "      <th>8</th>\n",
       "      <td>Total</td>\n",
       "      <td>1993</td>\n",
       "      <td>1664</td>\n",
       "      <td>3662</td>\n",
       "      <td>7149</td>\n",
       "      <td>115</td>\n",
       "    </tr>\n",
       "  </tbody>\n",
       "</table>\n",
       "<p>9 rows × 6 columns</p>\n",
       "</div>"
      ],
      "text/plain": [
       "                                         Catégorie  Mandelieu-La-Napoule  \\\n",
       "0                         Agriculteurs exploitants                     0   \n",
       "1          Artisans. commerçants. chefs entreprise                    16   \n",
       "..                                             ...                   ...   \n",
       "7   Autres personnes sans activité professionnelle                  1000   \n",
       "8                                            Total                  1993   \n",
       "\n",
       "    Mougins  Le Cannet  Cannes  Theoule-Sur-Mer  \n",
       "0         0          0       0                0  \n",
       "1        34         26      40                5  \n",
       "..      ...        ...     ...              ...  \n",
       "7      1049       2128    4519               63  \n",
       "8      1664       3662    7149              115  \n",
       "\n",
       "[9 rows x 6 columns]"
      ]
     },
     "execution_count": 22,
     "metadata": {},
     "output_type": "execute_result"
    }
   ],
   "source": [
    "CSP_15_24"
   ]
  },
  {
   "cell_type": "markdown",
   "metadata": {},
   "source": [
    "### Dimension du jeu de données"
   ]
  },
  {
   "cell_type": "code",
   "execution_count": 69,
   "metadata": {},
   "outputs": [
    {
     "name": "stdout",
     "output_type": "stream",
     "text": [
      "Le jeu de données recense 9 lignes par 6 colonnes\n"
     ]
    }
   ],
   "source": [
    "print(\"Le jeu de données recense\", CSP_15_24.shape[0],\"lignes par\", CSP_15_24.shape[1], \"colonnes\")"
   ]
  },
  {
   "cell_type": "markdown",
   "metadata": {},
   "source": [
    "### Valeurs manquantes"
   ]
  },
  {
   "cell_type": "markdown",
   "metadata": {},
   "source": [
    "Le jeu de données est complet"
   ]
  },
  {
   "cell_type": "code",
   "execution_count": 70,
   "metadata": {},
   "outputs": [
    {
     "data": {
      "text/plain": [
       "Catégorie               0\n",
       "Mandelieu-La-Napoule    0\n",
       "                       ..\n",
       "Cannes                  0\n",
       "Theoule-Sur-Mer         0\n",
       "Length: 6, dtype: int64"
      ]
     },
     "execution_count": 70,
     "metadata": {},
     "output_type": "execute_result"
    }
   ],
   "source": [
    "CSP_15_24.isna().sum()"
   ]
  },
  {
   "cell_type": "markdown",
   "metadata": {},
   "source": [
    "### Décompte des doublons"
   ]
  },
  {
   "cell_type": "code",
   "execution_count": 71,
   "metadata": {},
   "outputs": [
    {
     "data": {
      "text/plain": [
       "0"
      ]
     },
     "execution_count": 71,
     "metadata": {},
     "output_type": "execute_result"
    }
   ],
   "source": [
    "CSP_15_24.duplicated().sum()"
   ]
  },
  {
   "cell_type": "markdown",
   "metadata": {},
   "source": [
    "---"
   ]
  },
  {
   "cell_type": "markdown",
   "metadata": {},
   "source": [
    "# Jeu de données des CSP_25_54"
   ]
  },
  {
   "cell_type": "markdown",
   "metadata": {},
   "source": [
    "### Aperçu du fichier"
   ]
  },
  {
   "cell_type": "markdown",
   "metadata": {},
   "source": [
    "Il contient 6 variables que l'on pourra étudier :\n",
    "\n",
    "* catégorie\n",
    "* Mandelieu-La-Napoule\n",
    "* Mougins\n",
    "* Le Cannet\n",
    "* Cannes\n",
    "* Theoule-Sur-Mer"
   ]
  },
  {
   "cell_type": "code",
   "execution_count": 23,
   "metadata": {},
   "outputs": [
    {
     "data": {
      "text/html": [
       "<div>\n",
       "<style scoped>\n",
       "    .dataframe tbody tr th:only-of-type {\n",
       "        vertical-align: middle;\n",
       "    }\n",
       "\n",
       "    .dataframe tbody tr th {\n",
       "        vertical-align: top;\n",
       "    }\n",
       "\n",
       "    .dataframe thead th {\n",
       "        text-align: right;\n",
       "    }\n",
       "</style>\n",
       "<table border=\"1\" class=\"dataframe\">\n",
       "  <thead>\n",
       "    <tr style=\"text-align: right;\">\n",
       "      <th></th>\n",
       "      <th>Catégorie</th>\n",
       "      <th>Mandelieu-La-Napoule</th>\n",
       "      <th>Mougins</th>\n",
       "      <th>Le Cannet</th>\n",
       "      <th>Cannes</th>\n",
       "      <th>Théoule-Sur-Mer</th>\n",
       "    </tr>\n",
       "  </thead>\n",
       "  <tbody>\n",
       "    <tr>\n",
       "      <th>0</th>\n",
       "      <td>Agriculteurs exploitants</td>\n",
       "      <td>20</td>\n",
       "      <td>3</td>\n",
       "      <td>10</td>\n",
       "      <td>20</td>\n",
       "      <td>0</td>\n",
       "    </tr>\n",
       "    <tr>\n",
       "      <th>1</th>\n",
       "      <td>Artisans. commerçants. chefs entreprise</td>\n",
       "      <td>741</td>\n",
       "      <td>927</td>\n",
       "      <td>1225</td>\n",
       "      <td>2089</td>\n",
       "      <td>52</td>\n",
       "    </tr>\n",
       "    <tr>\n",
       "      <th>...</th>\n",
       "      <td>...</td>\n",
       "      <td>...</td>\n",
       "      <td>...</td>\n",
       "      <td>...</td>\n",
       "      <td>...</td>\n",
       "      <td>...</td>\n",
       "    </tr>\n",
       "    <tr>\n",
       "      <th>7</th>\n",
       "      <td>Autres personnes sans activité professionnelle</td>\n",
       "      <td>597</td>\n",
       "      <td>642</td>\n",
       "      <td>1845</td>\n",
       "      <td>3619</td>\n",
       "      <td>22</td>\n",
       "    </tr>\n",
       "    <tr>\n",
       "      <th>8</th>\n",
       "      <td>Total</td>\n",
       "      <td>8073</td>\n",
       "      <td>7941</td>\n",
       "      <td>15085</td>\n",
       "      <td>25189</td>\n",
       "      <td>497</td>\n",
       "    </tr>\n",
       "  </tbody>\n",
       "</table>\n",
       "<p>9 rows × 6 columns</p>\n",
       "</div>"
      ],
      "text/plain": [
       "                                         Catégorie  Mandelieu-La-Napoule  \\\n",
       "0                         Agriculteurs exploitants                    20   \n",
       "1          Artisans. commerçants. chefs entreprise                   741   \n",
       "..                                             ...                   ...   \n",
       "7   Autres personnes sans activité professionnelle                   597   \n",
       "8                                            Total                  8073   \n",
       "\n",
       "    Mougins  Le Cannet  Cannes  Théoule-Sur-Mer  \n",
       "0         3         10      20                0  \n",
       "1       927       1225    2089               52  \n",
       "..      ...        ...     ...              ...  \n",
       "7       642       1845    3619               22  \n",
       "8      7941      15085   25189              497  \n",
       "\n",
       "[9 rows x 6 columns]"
      ]
     },
     "execution_count": 23,
     "metadata": {},
     "output_type": "execute_result"
    }
   ],
   "source": [
    "CSP_25_54"
   ]
  },
  {
   "cell_type": "markdown",
   "metadata": {},
   "source": [
    "### Dimension du jeu de données"
   ]
  },
  {
   "cell_type": "code",
   "execution_count": 66,
   "metadata": {},
   "outputs": [
    {
     "name": "stdout",
     "output_type": "stream",
     "text": [
      "Le jeu de données recense 9 lignes par 6 colonnes\n"
     ]
    }
   ],
   "source": [
    "print(\"Le jeu de données recense\", CSP_25_54.shape[0],\"lignes par\", CSP_25_54.shape[1], \"colonnes\")"
   ]
  },
  {
   "cell_type": "markdown",
   "metadata": {},
   "source": [
    "### Valeurs manquantes"
   ]
  },
  {
   "cell_type": "markdown",
   "metadata": {},
   "source": [
    "Le jeu de données est complet"
   ]
  },
  {
   "cell_type": "code",
   "execution_count": 67,
   "metadata": {},
   "outputs": [
    {
     "data": {
      "text/plain": [
       "Catégorie               0\n",
       "Mandelieu-La-Napoule    0\n",
       "                       ..\n",
       "Cannes                  0\n",
       "Théoule-Sur-Mer         0\n",
       "Length: 6, dtype: int64"
      ]
     },
     "execution_count": 67,
     "metadata": {},
     "output_type": "execute_result"
    }
   ],
   "source": [
    "CSP_25_54.isna().sum()"
   ]
  },
  {
   "cell_type": "markdown",
   "metadata": {},
   "source": [
    "### Décompte des doublons"
   ]
  },
  {
   "cell_type": "code",
   "execution_count": 68,
   "metadata": {},
   "outputs": [
    {
     "data": {
      "text/plain": [
       "0"
      ]
     },
     "execution_count": 68,
     "metadata": {},
     "output_type": "execute_result"
    }
   ],
   "source": [
    "CSP_25_54.duplicated().sum()"
   ]
  },
  {
   "cell_type": "markdown",
   "metadata": {},
   "source": [
    "---"
   ]
  },
  {
   "cell_type": "markdown",
   "metadata": {},
   "source": [
    "# Jeu de données des CSP_55_plus"
   ]
  },
  {
   "cell_type": "markdown",
   "metadata": {},
   "source": [
    "### Aperçu du fichier"
   ]
  },
  {
   "cell_type": "markdown",
   "metadata": {},
   "source": [
    "Il contient 6 variables que l'on pourra étudier :\n",
    "\n",
    "* catégorie\n",
    "* Mandelieu-La-Napoule\n",
    "* Mougins\n",
    "* Le Cannet\n",
    "* Cannes\n",
    "* Theoule-Sur-Mer"
   ]
  },
  {
   "cell_type": "code",
   "execution_count": 24,
   "metadata": {},
   "outputs": [
    {
     "data": {
      "text/html": [
       "<div>\n",
       "<style scoped>\n",
       "    .dataframe tbody tr th:only-of-type {\n",
       "        vertical-align: middle;\n",
       "    }\n",
       "\n",
       "    .dataframe tbody tr th {\n",
       "        vertical-align: top;\n",
       "    }\n",
       "\n",
       "    .dataframe thead th {\n",
       "        text-align: right;\n",
       "    }\n",
       "</style>\n",
       "<table border=\"1\" class=\"dataframe\">\n",
       "  <thead>\n",
       "    <tr style=\"text-align: right;\">\n",
       "      <th></th>\n",
       "      <th>Catégorie</th>\n",
       "      <th>Mandelieu-La-Napoule</th>\n",
       "      <th>Mougins</th>\n",
       "      <th>le Cannet</th>\n",
       "      <th>Cannes</th>\n",
       "      <th>Théoule-Sur-Mer</th>\n",
       "    </tr>\n",
       "  </thead>\n",
       "  <tbody>\n",
       "    <tr>\n",
       "      <th>0</th>\n",
       "      <td>Agriculteurs exploitants</td>\n",
       "      <td>3</td>\n",
       "      <td>12</td>\n",
       "      <td>5</td>\n",
       "      <td>18</td>\n",
       "      <td>5</td>\n",
       "    </tr>\n",
       "    <tr>\n",
       "      <th>1</th>\n",
       "      <td>Artisans. commerçants. chefs entreprise</td>\n",
       "      <td>285</td>\n",
       "      <td>344</td>\n",
       "      <td>532</td>\n",
       "      <td>923</td>\n",
       "      <td>21</td>\n",
       "    </tr>\n",
       "    <tr>\n",
       "      <th>...</th>\n",
       "      <td>...</td>\n",
       "      <td>...</td>\n",
       "      <td>...</td>\n",
       "      <td>...</td>\n",
       "      <td>...</td>\n",
       "      <td>...</td>\n",
       "    </tr>\n",
       "    <tr>\n",
       "      <th>7</th>\n",
       "      <td>Autres personnes sans activité professionnelle</td>\n",
       "      <td>615</td>\n",
       "      <td>504</td>\n",
       "      <td>1297</td>\n",
       "      <td>2993</td>\n",
       "      <td>64</td>\n",
       "    </tr>\n",
       "    <tr>\n",
       "      <th>8</th>\n",
       "      <td>Total</td>\n",
       "      <td>9305</td>\n",
       "      <td>6607</td>\n",
       "      <td>17155</td>\n",
       "      <td>31161</td>\n",
       "      <td>623</td>\n",
       "    </tr>\n",
       "  </tbody>\n",
       "</table>\n",
       "<p>9 rows × 6 columns</p>\n",
       "</div>"
      ],
      "text/plain": [
       "                                         Catégorie  Mandelieu-La-Napoule  \\\n",
       "0                         Agriculteurs exploitants                     3   \n",
       "1          Artisans. commerçants. chefs entreprise                   285   \n",
       "..                                             ...                   ...   \n",
       "7   Autres personnes sans activité professionnelle                   615   \n",
       "8                                            Total                  9305   \n",
       "\n",
       "    Mougins  le Cannet  Cannes  Théoule-Sur-Mer  \n",
       "0        12          5      18                5  \n",
       "1       344        532     923               21  \n",
       "..      ...        ...     ...              ...  \n",
       "7       504       1297    2993               64  \n",
       "8      6607      17155   31161              623  \n",
       "\n",
       "[9 rows x 6 columns]"
      ]
     },
     "execution_count": 24,
     "metadata": {},
     "output_type": "execute_result"
    }
   ],
   "source": [
    "CSP_55_plus"
   ]
  },
  {
   "cell_type": "markdown",
   "metadata": {},
   "source": [
    "### Dimension du jeu de données"
   ]
  },
  {
   "cell_type": "code",
   "execution_count": 63,
   "metadata": {},
   "outputs": [
    {
     "name": "stdout",
     "output_type": "stream",
     "text": [
      "Le jeu de données recense 9 lignes pour 6 colonnes\n"
     ]
    }
   ],
   "source": [
    "print(\"Le jeu de données recense\", CSP_55_plus.shape[0],\"lignes pour\", CSP_55_plus.shape[1], \"colonnes\")"
   ]
  },
  {
   "cell_type": "markdown",
   "metadata": {},
   "source": [
    "### Valeurs manquantes"
   ]
  },
  {
   "cell_type": "markdown",
   "metadata": {},
   "source": [
    "Le jeu de données est complet"
   ]
  },
  {
   "cell_type": "code",
   "execution_count": 64,
   "metadata": {},
   "outputs": [
    {
     "data": {
      "text/plain": [
       "Catégorie               0\n",
       "Mandelieu-La-Napoule    0\n",
       "                       ..\n",
       "Cannes                  0\n",
       "Théoule-Sur-Mer         0\n",
       "Length: 6, dtype: int64"
      ]
     },
     "execution_count": 64,
     "metadata": {},
     "output_type": "execute_result"
    }
   ],
   "source": [
    "CSP_55_plus.isna().sum()"
   ]
  },
  {
   "cell_type": "markdown",
   "metadata": {},
   "source": [
    "### Décompte des doublons"
   ]
  },
  {
   "cell_type": "code",
   "execution_count": 65,
   "metadata": {},
   "outputs": [
    {
     "data": {
      "text/plain": [
       "0"
      ]
     },
     "execution_count": 65,
     "metadata": {},
     "output_type": "execute_result"
    }
   ],
   "source": [
    "CSP_55_plus.duplicated().sum()"
   ]
  },
  {
   "cell_type": "markdown",
   "metadata": {},
   "source": [
    "---"
   ]
  },
  {
   "cell_type": "markdown",
   "metadata": {},
   "source": [
    "# Jeu de données des logement_par_catégorie"
   ]
  },
  {
   "cell_type": "markdown",
   "metadata": {},
   "source": [
    "### Aperçu du fichier"
   ]
  },
  {
   "cell_type": "markdown",
   "metadata": {},
   "source": [
    "Il contient 7 variables que l'on pourra étudier :\n",
    "\n",
    "* catégorie\n",
    "* France\n",
    "* Mandelieu-La-Napoule\n",
    "* Mougins\n",
    "* Le Cannet\n",
    "* Cannes\n",
    "* Theoule-Sur-Mer"
   ]
  },
  {
   "cell_type": "code",
   "execution_count": 25,
   "metadata": {},
   "outputs": [
    {
     "data": {
      "text/html": [
       "<div>\n",
       "<style scoped>\n",
       "    .dataframe tbody tr th:only-of-type {\n",
       "        vertical-align: middle;\n",
       "    }\n",
       "\n",
       "    .dataframe tbody tr th {\n",
       "        vertical-align: top;\n",
       "    }\n",
       "\n",
       "    .dataframe thead th {\n",
       "        text-align: right;\n",
       "    }\n",
       "</style>\n",
       "<table border=\"1\" class=\"dataframe\">\n",
       "  <thead>\n",
       "    <tr style=\"text-align: right;\">\n",
       "      <th></th>\n",
       "      <th>Catégorie</th>\n",
       "      <th>France</th>\n",
       "      <th>Mandelieu-la-Napoule</th>\n",
       "      <th>Mougins</th>\n",
       "      <th>Le Cannet</th>\n",
       "      <th>Cannes</th>\n",
       "      <th>Théoule-sur-Mer</th>\n",
       "    </tr>\n",
       "  </thead>\n",
       "  <tbody>\n",
       "    <tr>\n",
       "      <th>0</th>\n",
       "      <td>Résidences principales</td>\n",
       "      <td>29479746</td>\n",
       "      <td>11339</td>\n",
       "      <td>8403</td>\n",
       "      <td>21276</td>\n",
       "      <td>37735</td>\n",
       "      <td>694</td>\n",
       "    </tr>\n",
       "    <tr>\n",
       "      <th>1</th>\n",
       "      <td>Résid. secondaires et log. occasionnels</td>\n",
       "      <td>3464523</td>\n",
       "      <td>8694</td>\n",
       "      <td>1983</td>\n",
       "      <td>4104</td>\n",
       "      <td>31433</td>\n",
       "      <td>2564</td>\n",
       "    </tr>\n",
       "    <tr>\n",
       "      <th>2</th>\n",
       "      <td>Logements vacants</td>\n",
       "      <td>2935447</td>\n",
       "      <td>1201</td>\n",
       "      <td>501</td>\n",
       "      <td>940</td>\n",
       "      <td>2096</td>\n",
       "      <td>77</td>\n",
       "    </tr>\n",
       "    <tr>\n",
       "      <th>3</th>\n",
       "      <td>Total</td>\n",
       "      <td>35879716</td>\n",
       "      <td>21234</td>\n",
       "      <td>10887</td>\n",
       "      <td>26320</td>\n",
       "      <td>71264</td>\n",
       "      <td>3335</td>\n",
       "    </tr>\n",
       "  </tbody>\n",
       "</table>\n",
       "</div>"
      ],
      "text/plain": [
       "                                 Catégorie    France  Mandelieu-la-Napoule  \\\n",
       "0                   Résidences principales  29479746                 11339   \n",
       "1  Résid. secondaires et log. occasionnels   3464523                  8694   \n",
       "2                        Logements vacants   2935447                  1201   \n",
       "3                                    Total  35879716                 21234   \n",
       "\n",
       "   Mougins  Le Cannet  Cannes  Théoule-sur-Mer  \n",
       "0     8403      21276   37735              694  \n",
       "1     1983       4104   31433             2564  \n",
       "2      501        940    2096               77  \n",
       "3    10887      26320   71264             3335  "
      ]
     },
     "execution_count": 25,
     "metadata": {},
     "output_type": "execute_result"
    }
   ],
   "source": [
    "logement_par_catégorie"
   ]
  },
  {
   "cell_type": "markdown",
   "metadata": {},
   "source": [
    "### Dimension du jeu de données"
   ]
  },
  {
   "cell_type": "code",
   "execution_count": 62,
   "metadata": {},
   "outputs": [
    {
     "name": "stdout",
     "output_type": "stream",
     "text": [
      "Le jeu de données recense 4 catégories pour 7 colonnes\n"
     ]
    }
   ],
   "source": [
    "print(\"Le jeu de données recense\", logement_par_catégorie.shape[0],\"catégories pour\", logement_par_catégorie.shape[1],\"colonnes\")"
   ]
  },
  {
   "cell_type": "markdown",
   "metadata": {},
   "source": [
    "### Valeurs manquantes"
   ]
  },
  {
   "cell_type": "markdown",
   "metadata": {},
   "source": [
    "Le jeu de données est complet"
   ]
  },
  {
   "cell_type": "code",
   "execution_count": 54,
   "metadata": {},
   "outputs": [
    {
     "data": {
      "text/plain": [
       "Catégorie          0\n",
       "France             0\n",
       "                  ..\n",
       "Cannes             0\n",
       "Théoule-sur-Mer    0\n",
       "Length: 7, dtype: int64"
      ]
     },
     "execution_count": 54,
     "metadata": {},
     "output_type": "execute_result"
    }
   ],
   "source": [
    "logement_par_catégorie.isna().sum()"
   ]
  },
  {
   "cell_type": "markdown",
   "metadata": {},
   "source": [
    "### Décompte des doublons"
   ]
  },
  {
   "cell_type": "code",
   "execution_count": 55,
   "metadata": {},
   "outputs": [
    {
     "data": {
      "text/plain": [
       "0"
      ]
     },
     "execution_count": 55,
     "metadata": {},
     "output_type": "execute_result"
    }
   ],
   "source": [
    "logement_par_catégorie.duplicated().sum()"
   ]
  },
  {
   "cell_type": "markdown",
   "metadata": {},
   "source": [
    "---"
   ]
  },
  {
   "cell_type": "markdown",
   "metadata": {},
   "source": [
    "# Jeu de données des entreprise_csv"
   ]
  },
  {
   "cell_type": "markdown",
   "metadata": {},
   "source": [
    "### Aperçu du fichier"
   ]
  },
  {
   "cell_type": "markdown",
   "metadata": {},
   "source": [
    "Il contient 76 variables que l'on pourra étudier :\n",
    "\n",
    "* siren\n",
    "* nic\n",
    "* siret\n",
    "* statutDiffusionEtablissement\n",
    "* dateCreationEtablissement\n",
    "* trancheEffectifsEtablissement\n",
    "* anneeEffectifsEtablissement\n",
    "* activitePrincipaleRegistreMetiersEtablissement\n",
    "* dateDernierTraitementEtablissement\n",
    "* etablissementSiege\n",
    "* etatAdministratifUniteLegale\n",
    "* statutDiffusionUniteLegale\n",
    "* unitePurgeeUniteLegale\n",
    "* dateCreationUniteLegale\n",
    "* categorieJuridiqueUniteLegale \n",
    "* denominationUniteLegale\n",
    "* sigleUniteLegale\n",
    "* denominationUsuelle1UniteLegale\n",
    "* denominationUsuelle2UniteLegale\n",
    "* denominationUsuelle3UniteLegale\n",
    "* sexeUniteLegale\n",
    "* nomUniteLegale\n",
    "* nomUsageUniteLegale\n",
    "* prenom1UniteLegale\n",
    "* prenom2UniteLegale\n",
    "* prenom3UniteLegale\n",
    "* prenom4UniteLegale\n",
    "* prenomUsuelUniteLegale\n",
    "* pseudonymeUniteLegale\n",
    "* activitePrincipaleUniteLegale\n",
    "* nomenclatureActivitePrincipaleUniteLegale\n",
    "* identifiantAssociationUniteLegale\n",
    "* economieSocialeSolidaireUniteLegale\n",
    "* caractereEmployeurUniteLegale\n",
    "* trancheEffectifsUniteLegale\n",
    "* anneeEffectifsUniteLegale\n",
    "* nicSiegeUniteLegale\n",
    "* dateDernierTraitementUniteLegale\n",
    "* categorieEntreprise\n",
    "* anneeCategorieEntreprise\n",
    "* complementAdresseEtablissement\n",
    "* numeroVoieEtablissement\n",
    "* indiceRepetitionEtablissement\n",
    "* typeVoieEtablissement\n",
    "* libelleVoieEtablissement\n",
    "* codePostalEtablissement\n",
    "* libelleCommuneEtablissement\n",
    "* libelleCommuneEtrangerEtablissement\n",
    "* distributionSpecialeEtablissement\n",
    "* codeCommuneEtablissement\n",
    "* codeCedexEtablissement\n",
    "* libelleCedexEtablissement\n",
    "* codePaysEtrangerEtablissement\n",
    "* libellePaysEtrangerEtablissement\n",
    "* complementAdresse2Etablissement\n",
    "* numeroVoie2Etablissement\n",
    "* indiceRepetition2Etablissement\n",
    "* typeVoie2Etablissement\n",
    "* libelleVoie2Etablissement\n",
    "* codePostal2Etablissement\n",
    "* libelleCommune2Etablissement\n",
    "* libelleCommuneEtranger2Etablissement\n",
    "* distributionSpeciale2Etablissement\n",
    "* codeCommune2Etablissement\n",
    "* codeCedex2Etablissement\n",
    "* libelleCedex2Etablissement\n",
    "* codePaysEtranger2Etablissement\n",
    "* libellePaysEtranger2Etablissement\n",
    "* etatAdministratifEtablissement\n",
    "* enseigne1Etablissement\n",
    "* enseigne2Etablissement\n",
    "* enseigne3Etablissement\n",
    "* denominationUsuelleEtablissement\n",
    "* activitePrincipaleEtablissement\n",
    "* nomenclatureActivitePrincipaleEtablissement\n",
    "* caractereEmployeurEtablissement"
   ]
  },
  {
   "cell_type": "code",
   "execution_count": 26,
   "metadata": {},
   "outputs": [
    {
     "data": {
      "text/html": [
       "<div>\n",
       "<style scoped>\n",
       "    .dataframe tbody tr th:only-of-type {\n",
       "        vertical-align: middle;\n",
       "    }\n",
       "\n",
       "    .dataframe tbody tr th {\n",
       "        vertical-align: top;\n",
       "    }\n",
       "\n",
       "    .dataframe thead th {\n",
       "        text-align: right;\n",
       "    }\n",
       "</style>\n",
       "<table border=\"1\" class=\"dataframe\">\n",
       "  <thead>\n",
       "    <tr style=\"text-align: right;\">\n",
       "      <th></th>\n",
       "      <th>siren</th>\n",
       "      <th>nic</th>\n",
       "      <th>siret</th>\n",
       "      <th>statutDiffusionEtablissement</th>\n",
       "      <th>dateCreationEtablissement</th>\n",
       "      <th>trancheEffectifsEtablissement</th>\n",
       "      <th>anneeEffectifsEtablissement</th>\n",
       "      <th>activitePrincipaleRegistreMetiersEtablissement</th>\n",
       "      <th>dateDernierTraitementEtablissement</th>\n",
       "      <th>etablissementSiege</th>\n",
       "      <th>...</th>\n",
       "      <th>codePaysEtranger2Etablissement</th>\n",
       "      <th>libellePaysEtranger2Etablissement</th>\n",
       "      <th>etatAdministratifEtablissement</th>\n",
       "      <th>enseigne1Etablissement</th>\n",
       "      <th>enseigne2Etablissement</th>\n",
       "      <th>enseigne3Etablissement</th>\n",
       "      <th>denominationUsuelleEtablissement</th>\n",
       "      <th>activitePrincipaleEtablissement</th>\n",
       "      <th>nomenclatureActivitePrincipaleEtablissement</th>\n",
       "      <th>caractereEmployeurEtablissement</th>\n",
       "    </tr>\n",
       "  </thead>\n",
       "  <tbody>\n",
       "    <tr>\n",
       "      <th>0</th>\n",
       "      <td>6310965</td>\n",
       "      <td>22</td>\n",
       "      <td>631096500022</td>\n",
       "      <td>O</td>\n",
       "      <td>1982-08-10</td>\n",
       "      <td>NN</td>\n",
       "      <td>NaN</td>\n",
       "      <td>NaN</td>\n",
       "      <td>2019-11-14T14:00:15</td>\n",
       "      <td>True</td>\n",
       "      <td>...</td>\n",
       "      <td>NaN</td>\n",
       "      <td>NaN</td>\n",
       "      <td>A</td>\n",
       "      <td>NaN</td>\n",
       "      <td>NaN</td>\n",
       "      <td>NaN</td>\n",
       "      <td>NaN</td>\n",
       "      <td>68.20A</td>\n",
       "      <td>NAFRev2</td>\n",
       "      <td>N</td>\n",
       "    </tr>\n",
       "    <tr>\n",
       "      <th>1</th>\n",
       "      <td>15580079</td>\n",
       "      <td>34</td>\n",
       "      <td>1558007900034</td>\n",
       "      <td>O</td>\n",
       "      <td>2004-06-29</td>\n",
       "      <td>NN</td>\n",
       "      <td>NaN</td>\n",
       "      <td>NaN</td>\n",
       "      <td>2008-01-04T17:54:54</td>\n",
       "      <td>False</td>\n",
       "      <td>...</td>\n",
       "      <td>NaN</td>\n",
       "      <td>NaN</td>\n",
       "      <td>A</td>\n",
       "      <td>NaN</td>\n",
       "      <td>NaN</td>\n",
       "      <td>NaN</td>\n",
       "      <td>NaN</td>\n",
       "      <td>68.20B</td>\n",
       "      <td>NAFRev2</td>\n",
       "      <td>N</td>\n",
       "    </tr>\n",
       "    <tr>\n",
       "      <th>2</th>\n",
       "      <td>19760123</td>\n",
       "      <td>18</td>\n",
       "      <td>1976012300018</td>\n",
       "      <td>O</td>\n",
       "      <td>1995-12-25</td>\n",
       "      <td>NaN</td>\n",
       "      <td>NaN</td>\n",
       "      <td>NaN</td>\n",
       "      <td>2008-01-04T17:55:07</td>\n",
       "      <td>True</td>\n",
       "      <td>...</td>\n",
       "      <td>NaN</td>\n",
       "      <td>NaN</td>\n",
       "      <td>A</td>\n",
       "      <td>NaN</td>\n",
       "      <td>NaN</td>\n",
       "      <td>NaN</td>\n",
       "      <td>NaN</td>\n",
       "      <td>81.10Z</td>\n",
       "      <td>NAFRev2</td>\n",
       "      <td>N</td>\n",
       "    </tr>\n",
       "    <tr>\n",
       "      <th>3</th>\n",
       "      <td>19760149</td>\n",
       "      <td>13</td>\n",
       "      <td>1976014900013</td>\n",
       "      <td>O</td>\n",
       "      <td>1995-12-25</td>\n",
       "      <td>01</td>\n",
       "      <td>2018.0</td>\n",
       "      <td>NaN</td>\n",
       "      <td>2020-08-25T10:10:23</td>\n",
       "      <td>True</td>\n",
       "      <td>...</td>\n",
       "      <td>NaN</td>\n",
       "      <td>NaN</td>\n",
       "      <td>A</td>\n",
       "      <td>NaN</td>\n",
       "      <td>NaN</td>\n",
       "      <td>NaN</td>\n",
       "      <td>NaN</td>\n",
       "      <td>81.10Z</td>\n",
       "      <td>NAFRev2</td>\n",
       "      <td>O</td>\n",
       "    </tr>\n",
       "    <tr>\n",
       "      <th>4</th>\n",
       "      <td>19760206</td>\n",
       "      <td>11</td>\n",
       "      <td>1976020600011</td>\n",
       "      <td>O</td>\n",
       "      <td>1995-12-25</td>\n",
       "      <td>NN</td>\n",
       "      <td>NaN</td>\n",
       "      <td>NaN</td>\n",
       "      <td>2019-04-03T08:47:15</td>\n",
       "      <td>True</td>\n",
       "      <td>...</td>\n",
       "      <td>NaN</td>\n",
       "      <td>NaN</td>\n",
       "      <td>A</td>\n",
       "      <td>NaN</td>\n",
       "      <td>NaN</td>\n",
       "      <td>NaN</td>\n",
       "      <td>NaN</td>\n",
       "      <td>81.10Z</td>\n",
       "      <td>NAFRev2</td>\n",
       "      <td>N</td>\n",
       "    </tr>\n",
       "  </tbody>\n",
       "</table>\n",
       "<p>5 rows × 76 columns</p>\n",
       "</div>"
      ],
      "text/plain": [
       "      siren  nic          siret statutDiffusionEtablissement  \\\n",
       "0   6310965   22   631096500022                            O   \n",
       "1  15580079   34  1558007900034                            O   \n",
       "2  19760123   18  1976012300018                            O   \n",
       "3  19760149   13  1976014900013                            O   \n",
       "4  19760206   11  1976020600011                            O   \n",
       "\n",
       "  dateCreationEtablissement trancheEffectifsEtablissement  \\\n",
       "0                1982-08-10                            NN   \n",
       "1                2004-06-29                            NN   \n",
       "2                1995-12-25                           NaN   \n",
       "3                1995-12-25                            01   \n",
       "4                1995-12-25                            NN   \n",
       "\n",
       "   anneeEffectifsEtablissement activitePrincipaleRegistreMetiersEtablissement  \\\n",
       "0                          NaN                                            NaN   \n",
       "1                          NaN                                            NaN   \n",
       "2                          NaN                                            NaN   \n",
       "3                       2018.0                                            NaN   \n",
       "4                          NaN                                            NaN   \n",
       "\n",
       "  dateDernierTraitementEtablissement  etablissementSiege  ...  \\\n",
       "0                2019-11-14T14:00:15                True  ...   \n",
       "1                2008-01-04T17:54:54               False  ...   \n",
       "2                2008-01-04T17:55:07                True  ...   \n",
       "3                2020-08-25T10:10:23                True  ...   \n",
       "4                2019-04-03T08:47:15                True  ...   \n",
       "\n",
       "  codePaysEtranger2Etablissement libellePaysEtranger2Etablissement  \\\n",
       "0                            NaN                               NaN   \n",
       "1                            NaN                               NaN   \n",
       "2                            NaN                               NaN   \n",
       "3                            NaN                               NaN   \n",
       "4                            NaN                               NaN   \n",
       "\n",
       "   etatAdministratifEtablissement enseigne1Etablissement  \\\n",
       "0                               A                    NaN   \n",
       "1                               A                    NaN   \n",
       "2                               A                    NaN   \n",
       "3                               A                    NaN   \n",
       "4                               A                    NaN   \n",
       "\n",
       "   enseigne2Etablissement enseigne3Etablissement  \\\n",
       "0                     NaN                    NaN   \n",
       "1                     NaN                    NaN   \n",
       "2                     NaN                    NaN   \n",
       "3                     NaN                    NaN   \n",
       "4                     NaN                    NaN   \n",
       "\n",
       "  denominationUsuelleEtablissement activitePrincipaleEtablissement  \\\n",
       "0                              NaN                          68.20A   \n",
       "1                              NaN                          68.20B   \n",
       "2                              NaN                          81.10Z   \n",
       "3                              NaN                          81.10Z   \n",
       "4                              NaN                          81.10Z   \n",
       "\n",
       "  nomenclatureActivitePrincipaleEtablissement caractereEmployeurEtablissement  \n",
       "0                                     NAFRev2                               N  \n",
       "1                                     NAFRev2                               N  \n",
       "2                                     NAFRev2                               N  \n",
       "3                                     NAFRev2                               O  \n",
       "4                                     NAFRev2                               N  \n",
       "\n",
       "[5 rows x 76 columns]"
      ]
     },
     "execution_count": 26,
     "metadata": {},
     "output_type": "execute_result"
    }
   ],
   "source": [
    "#entreprise_csv.head(5)"
   ]
  },
  {
   "cell_type": "markdown",
   "metadata": {},
   "source": [
    "### Dimension du jeu de données"
   ]
  },
  {
   "cell_type": "code",
   "execution_count": 42,
   "metadata": {},
   "outputs": [
    {
     "name": "stdout",
     "output_type": "stream",
     "text": [
      "Le jeu de données recense 54642 entreprises pour 76 colonnes\n"
     ]
    }
   ],
   "source": [
    "print(\"Le jeu de données recense\", entreprise_csv.shape[0],\"entreprises pour\", entreprise_csv.shape[1], \"colonnes\")"
   ]
  },
  {
   "cell_type": "markdown",
   "metadata": {},
   "source": [
    "### Valeurs manquantes"
   ]
  },
  {
   "cell_type": "markdown",
   "metadata": {},
   "source": [
    "Le jeu de données est complet"
   ]
  },
  {
   "cell_type": "code",
   "execution_count": 51,
   "metadata": {},
   "outputs": [
    {
     "data": {
      "text/plain": [
       "siren                                          0\n",
       "nic                                            0\n",
       "                                              ..\n",
       "nomenclatureActivitePrincipaleEtablissement    0\n",
       "caractereEmployeurEtablissement                1\n",
       "Length: 76, dtype: int64"
      ]
     },
     "execution_count": 51,
     "metadata": {},
     "output_type": "execute_result"
    }
   ],
   "source": [
    "entreprise_csv.isna().sum()"
   ]
  },
  {
   "cell_type": "markdown",
   "metadata": {},
   "source": [
    "### Décompte des doublons"
   ]
  },
  {
   "cell_type": "code",
   "execution_count": 50,
   "metadata": {},
   "outputs": [
    {
     "data": {
      "text/plain": [
       "0"
      ]
     },
     "execution_count": 50,
     "metadata": {},
     "output_type": "execute_result"
    }
   ],
   "source": [
    "entreprise_csv.duplicated().sum()"
   ]
  },
  {
   "cell_type": "markdown",
   "metadata": {},
   "source": [
    "---"
   ]
  },
  {
   "cell_type": "markdown",
   "metadata": {},
   "source": [
    "# Jeu de données des code_naf"
   ]
  },
  {
   "cell_type": "markdown",
   "metadata": {},
   "source": [
    "### Aperçu du fichier"
   ]
  },
  {
   "cell_type": "markdown",
   "metadata": {},
   "source": [
    "Il contient 2 variables que l'on pourra étudier :\n",
    "\n",
    "* Code\n",
    "* Libellé"
   ]
  },
  {
   "cell_type": "code",
   "execution_count": 27,
   "metadata": {},
   "outputs": [
    {
     "data": {
      "text/html": [
       "<div>\n",
       "<style scoped>\n",
       "    .dataframe tbody tr th:only-of-type {\n",
       "        vertical-align: middle;\n",
       "    }\n",
       "\n",
       "    .dataframe tbody tr th {\n",
       "        vertical-align: top;\n",
       "    }\n",
       "\n",
       "    .dataframe thead th {\n",
       "        text-align: right;\n",
       "    }\n",
       "</style>\n",
       "<table border=\"1\" class=\"dataframe\">\n",
       "  <thead>\n",
       "    <tr style=\"text-align: right;\">\n",
       "      <th></th>\n",
       "      <th>Code</th>\n",
       "      <th>Libellé</th>\n",
       "    </tr>\n",
       "  </thead>\n",
       "  <tbody>\n",
       "    <tr>\n",
       "      <th>0</th>\n",
       "      <td>A</td>\n",
       "      <td>Agriculture, sylviculture et pêche</td>\n",
       "    </tr>\n",
       "    <tr>\n",
       "      <th>1</th>\n",
       "      <td>B</td>\n",
       "      <td>Industries extractives</td>\n",
       "    </tr>\n",
       "    <tr>\n",
       "      <th>...</th>\n",
       "      <td>...</td>\n",
       "      <td>...</td>\n",
       "    </tr>\n",
       "    <tr>\n",
       "      <th>19</th>\n",
       "      <td>T</td>\n",
       "      <td>Activités des ménages en tant qu'employeurs ; ...</td>\n",
       "    </tr>\n",
       "    <tr>\n",
       "      <th>20</th>\n",
       "      <td>U</td>\n",
       "      <td>Activités extra-territoriales</td>\n",
       "    </tr>\n",
       "  </tbody>\n",
       "</table>\n",
       "<p>21 rows × 2 columns</p>\n",
       "</div>"
      ],
      "text/plain": [
       "   Code                                            Libellé\n",
       "0     A                 Agriculture, sylviculture et pêche\n",
       "1     B                             Industries extractives\n",
       "..  ...                                                ...\n",
       "19    T  Activités des ménages en tant qu'employeurs ; ...\n",
       "20    U                      Activités extra-territoriales\n",
       "\n",
       "[21 rows x 2 columns]"
      ]
     },
     "execution_count": 27,
     "metadata": {},
     "output_type": "execute_result"
    }
   ],
   "source": [
    "code_naf"
   ]
  },
  {
   "cell_type": "markdown",
   "metadata": {},
   "source": [
    "### Dimension du jeu de données"
   ]
  },
  {
   "cell_type": "code",
   "execution_count": 45,
   "metadata": {},
   "outputs": [
    {
     "name": "stdout",
     "output_type": "stream",
     "text": [
      "Le jeu de données recense 21 codes par 2 libellé\n"
     ]
    }
   ],
   "source": [
    "print(\"Le jeu de données recense\", code_naf.shape[0],\"codes par\", code_naf.shape[1], \"libellé\")"
   ]
  },
  {
   "cell_type": "markdown",
   "metadata": {},
   "source": [
    "### Valeurs manquantes"
   ]
  },
  {
   "cell_type": "markdown",
   "metadata": {},
   "source": [
    "Le jeu de données est complet"
   ]
  },
  {
   "cell_type": "code",
   "execution_count": 46,
   "metadata": {},
   "outputs": [
    {
     "data": {
      "text/plain": [
       "Code       0\n",
       "Libellé    0\n",
       "dtype: int64"
      ]
     },
     "execution_count": 46,
     "metadata": {},
     "output_type": "execute_result"
    }
   ],
   "source": [
    "code_naf.isna().sum()"
   ]
  },
  {
   "cell_type": "markdown",
   "metadata": {},
   "source": [
    "### Décompte des doublons"
   ]
  },
  {
   "cell_type": "code",
   "execution_count": 47,
   "metadata": {},
   "outputs": [
    {
     "data": {
      "text/plain": [
       "0"
      ]
     },
     "execution_count": 47,
     "metadata": {},
     "output_type": "execute_result"
    }
   ],
   "source": [
    "code_naf.duplicated().sum()"
   ]
  },
  {
   "cell_type": "markdown",
   "metadata": {},
   "source": [
    "---"
   ]
  },
  {
   "cell_type": "markdown",
   "metadata": {},
   "source": [
    "# Jeu de données des naf_5"
   ]
  },
  {
   "cell_type": "markdown",
   "metadata": {},
   "source": [
    "### Aperçu du fichier"
   ]
  },
  {
   "cell_type": "markdown",
   "metadata": {},
   "source": [
    "Il contient 5 variables que l'on pourra étudier :\n",
    "\n",
    "* NIV5\n",
    "* NIV4\n",
    "* NIV3\n",
    "* NIV2\n",
    "* NIV1"
   ]
  },
  {
   "cell_type": "code",
   "execution_count": 28,
   "metadata": {},
   "outputs": [
    {
     "data": {
      "text/html": [
       "<div>\n",
       "<style scoped>\n",
       "    .dataframe tbody tr th:only-of-type {\n",
       "        vertical-align: middle;\n",
       "    }\n",
       "\n",
       "    .dataframe tbody tr th {\n",
       "        vertical-align: top;\n",
       "    }\n",
       "\n",
       "    .dataframe thead th {\n",
       "        text-align: right;\n",
       "    }\n",
       "</style>\n",
       "<table border=\"1\" class=\"dataframe\">\n",
       "  <thead>\n",
       "    <tr style=\"text-align: right;\">\n",
       "      <th></th>\n",
       "      <th>NIV5</th>\n",
       "      <th>NIV4</th>\n",
       "      <th>NIV3</th>\n",
       "      <th>NIV2</th>\n",
       "      <th>NIV1</th>\n",
       "    </tr>\n",
       "  </thead>\n",
       "  <tbody>\n",
       "    <tr>\n",
       "      <th>0</th>\n",
       "      <td>01.11Z</td>\n",
       "      <td>1.11</td>\n",
       "      <td>1.1</td>\n",
       "      <td>1</td>\n",
       "      <td>A</td>\n",
       "    </tr>\n",
       "    <tr>\n",
       "      <th>1</th>\n",
       "      <td>01.12Z</td>\n",
       "      <td>1.12</td>\n",
       "      <td>1.1</td>\n",
       "      <td>1</td>\n",
       "      <td>A</td>\n",
       "    </tr>\n",
       "    <tr>\n",
       "      <th>...</th>\n",
       "      <td>...</td>\n",
       "      <td>...</td>\n",
       "      <td>...</td>\n",
       "      <td>...</td>\n",
       "      <td>...</td>\n",
       "    </tr>\n",
       "    <tr>\n",
       "      <th>730</th>\n",
       "      <td>98.20Z</td>\n",
       "      <td>98.20</td>\n",
       "      <td>98.2</td>\n",
       "      <td>98</td>\n",
       "      <td>T</td>\n",
       "    </tr>\n",
       "    <tr>\n",
       "      <th>731</th>\n",
       "      <td>99.00Z</td>\n",
       "      <td>99.00</td>\n",
       "      <td>99.0</td>\n",
       "      <td>99</td>\n",
       "      <td>U</td>\n",
       "    </tr>\n",
       "  </tbody>\n",
       "</table>\n",
       "<p>732 rows × 5 columns</p>\n",
       "</div>"
      ],
      "text/plain": [
       "       NIV5   NIV4  NIV3  NIV2 NIV1\n",
       "0    01.11Z   1.11   1.1     1    A\n",
       "1    01.12Z   1.12   1.1     1    A\n",
       "..      ...    ...   ...   ...  ...\n",
       "730  98.20Z  98.20  98.2    98    T\n",
       "731  99.00Z  99.00  99.0    99    U\n",
       "\n",
       "[732 rows x 5 columns]"
      ]
     },
     "execution_count": 28,
     "metadata": {},
     "output_type": "execute_result"
    }
   ],
   "source": [
    "naf_5"
   ]
  },
  {
   "cell_type": "markdown",
   "metadata": {},
   "source": [
    "### Dimension du jeu de données"
   ]
  },
  {
   "cell_type": "code",
   "execution_count": 72,
   "metadata": {},
   "outputs": [
    {
     "name": "stdout",
     "output_type": "stream",
     "text": [
      "Le jeu de données recense 732 lignes avec 5 niveaux\n"
     ]
    }
   ],
   "source": [
    "print(\"Le jeu de données recense\", naf_5.shape[0],\"lignes avec\", naf_5.shape[1], \"niveaux\")"
   ]
  },
  {
   "cell_type": "markdown",
   "metadata": {},
   "source": [
    "### Valeurs manquantes"
   ]
  },
  {
   "cell_type": "markdown",
   "metadata": {},
   "source": [
    "Le jeu de données est complet"
   ]
  },
  {
   "cell_type": "code",
   "execution_count": 73,
   "metadata": {},
   "outputs": [
    {
     "data": {
      "text/plain": [
       "NIV5    0\n",
       "NIV4    0\n",
       "NIV3    0\n",
       "NIV2    0\n",
       "NIV1    0\n",
       "dtype: int64"
      ]
     },
     "execution_count": 73,
     "metadata": {},
     "output_type": "execute_result"
    }
   ],
   "source": [
    "naf_5.isna().sum()"
   ]
  },
  {
   "cell_type": "markdown",
   "metadata": {},
   "source": [
    "### Décompte des doublons"
   ]
  },
  {
   "cell_type": "code",
   "execution_count": 74,
   "metadata": {},
   "outputs": [
    {
     "data": {
      "text/plain": [
       "0"
      ]
     },
     "execution_count": 74,
     "metadata": {},
     "output_type": "execute_result"
    }
   ],
   "source": [
    "naf_5.duplicated().sum()"
   ]
  },
  {
   "cell_type": "markdown",
   "metadata": {},
   "source": [
    "---"
   ]
  },
  {
   "cell_type": "markdown",
   "metadata": {},
   "source": [
    "# <p style=\"font-family: serif; font-size:2.2em; text-align: center;\"><u>Création des DataFrames</u></p> "
   ]
  },
  {
   "cell_type": "markdown",
   "metadata": {},
   "source": [
    "La création des DataFrames nous permettra d'établir la connection et le chargement des données directement depuis les tables de notre base de données."
   ]
  },
  {
   "cell_type": "markdown",
   "metadata": {},
   "source": [
    "## Création du DataFrame ville"
   ]
  },
  {
   "cell_type": "code",
   "execution_count": 77,
   "metadata": {},
   "outputs": [],
   "source": [
    "liste_ville_id = [1,2,3,4,5]\n",
    "liste_ville_nom = ['Cannes', 'Le Cannet', 'Mougins', 'Mandelieu-La-Napoule', 'Theoule-Sur-Mer']\n",
    "ville = pd.DataFrame({'vi_id': liste_ville_id,\n",
    "                     'vi_nom': liste_ville_nom})"
   ]
  },
  {
   "cell_type": "code",
   "execution_count": 78,
   "metadata": {},
   "outputs": [
    {
     "data": {
      "text/html": [
       "<div>\n",
       "<style scoped>\n",
       "    .dataframe tbody tr th:only-of-type {\n",
       "        vertical-align: middle;\n",
       "    }\n",
       "\n",
       "    .dataframe tbody tr th {\n",
       "        vertical-align: top;\n",
       "    }\n",
       "\n",
       "    .dataframe thead th {\n",
       "        text-align: right;\n",
       "    }\n",
       "</style>\n",
       "<table border=\"1\" class=\"dataframe\">\n",
       "  <thead>\n",
       "    <tr style=\"text-align: right;\">\n",
       "      <th></th>\n",
       "      <th>vi_id</th>\n",
       "      <th>vi_nom</th>\n",
       "    </tr>\n",
       "  </thead>\n",
       "  <tbody>\n",
       "    <tr>\n",
       "      <th>0</th>\n",
       "      <td>1</td>\n",
       "      <td>Cannes</td>\n",
       "    </tr>\n",
       "    <tr>\n",
       "      <th>1</th>\n",
       "      <td>2</td>\n",
       "      <td>Le Cannet</td>\n",
       "    </tr>\n",
       "    <tr>\n",
       "      <th>2</th>\n",
       "      <td>3</td>\n",
       "      <td>Mougins</td>\n",
       "    </tr>\n",
       "    <tr>\n",
       "      <th>3</th>\n",
       "      <td>4</td>\n",
       "      <td>Mandelieu-La-Napoule</td>\n",
       "    </tr>\n",
       "    <tr>\n",
       "      <th>4</th>\n",
       "      <td>5</td>\n",
       "      <td>Theoule-Sur-Mer</td>\n",
       "    </tr>\n",
       "  </tbody>\n",
       "</table>\n",
       "</div>"
      ],
      "text/plain": [
       "   vi_id                vi_nom\n",
       "0      1                Cannes\n",
       "1      2             Le Cannet\n",
       "2      3               Mougins\n",
       "3      4  Mandelieu-La-Napoule\n",
       "4      5       Theoule-Sur-Mer"
      ]
     },
     "execution_count": 78,
     "metadata": {},
     "output_type": "execute_result"
    }
   ],
   "source": [
    "# Apercu du DataFrame ville\n",
    "ville"
   ]
  },
  {
   "cell_type": "markdown",
   "metadata": {},
   "source": [
    "---"
   ]
  },
  {
   "cell_type": "markdown",
   "metadata": {},
   "source": [
    "## Création du DataFrame entreprise"
   ]
  },
  {
   "cell_type": "code",
   "execution_count": 84,
   "metadata": {},
   "outputs": [],
   "source": [
    "# On affiche les adresses en minuscule\n",
    "entreprise_csv[\"denominationUniteLegale\"] = entreprise_csv[\"denominationUniteLegale\"].str.lower()\n",
    "# Rectification des code postaux\n",
    "entreprise_csv[\"codePostalEtablissement\"] = \"0\" + entreprise_csv[\"codePostalEtablissement\"].astype(str)\n",
    "# On affiche le nom des villes en minuscule\n",
    "entreprise_csv[\"libelleCommuneEtablissement\"] = entreprise_csv[\"libelleCommuneEtablissement\"].str.title()\n",
    "# On affiche les abbreviations des types de voie en minuscule\n",
    "entreprise_csv[\"typeVoieEtablissement\"] = entreprise_csv[\"typeVoieEtablissement\"].str.lower()\n",
    "# On affiche les nom des rue en minuscule\n",
    "entreprise_csv[\"libelleVoieEtablissement\"] = entreprise_csv[\"libelleVoieEtablissement\"].str.lower()"
   ]
  },
  {
   "cell_type": "code",
   "execution_count": 85,
   "metadata": {},
   "outputs": [],
   "source": [
    "# Création du dictionnaire naf\n",
    "naf = {}\n",
    "for i in naf_5.index:\n",
    "    # Ajout paire clé-valeur\n",
    "    naf.update({naf_5.iloc[i]['NIV5']: naf_5.loc[i]['NIV1']})\n",
    "\n",
    "# Création du dictionnaire secteur d'activité\n",
    "SectAct = {}\n",
    "for i in code_naf.index:\n",
    "    # Ajout paire clé-valeur\n",
    "    SectAct.update({code_naf.iloc[i]['Code']: code_naf.index[i]+1})\n",
    "    \n",
    "# Création du dictionnaire des villes\n",
    "dict_ville = {}\n",
    "for i in ville.index:\n",
    "    dict_ville.update({ville.loc[i]['vi_nom']: ville.loc[i]['vi_id']})"
   ]
  },
  {
   "cell_type": "code",
   "execution_count": 86,
   "metadata": {},
   "outputs": [],
   "source": [
    "# Création du DataFrame entreprise\n",
    "entreprise = pd.DataFrame(columns =['en_id','en_siren','en_nic', 'en_nom', 'en_sa_id_fk', 'en_adresse', 'en_code_postal', 'en_vi_id_fk'])\n",
    "\n",
    "#for i in entreprise_csv.index:\n",
    "for i in range(2000):\n",
    "    en_id = int(str(entreprise_csv.loc[i][\"siren\"]) + str(entreprise_csv.loc[i][\"nic\"]))\n",
    "    siren = entreprise_csv.iloc[i]['siren']\n",
    "    nic = entreprise_csv.iloc[i]['nic']\n",
    "    nom = entreprise_csv.iloc[i]['denominationUniteLegale']\n",
    "    # Utilisation du dictionaire naf pour répertorier les secteurs d'activité\n",
    "    a = naf[entreprise_csv.loc[i][\"activitePrincipaleEtablissement\"]]\n",
    "    # Utilisation du dictionaire naf SectAct pour réferencer le secteur d'activité\n",
    "    secteur_activite = SectAct[a]\n",
    "    \n",
    "    \n",
    "    # Ici on test si le numero de voie est non nul/ si oui on le remplace par un str vide\n",
    "    adresse = (''if pd.isna(entreprise_csv.iloc[i]['numeroVoieEtablissement'])\n",
    "    # /sinon on le transforme en int pour supprimer les chiffres apres la virgule puis en str\n",
    " else str(int(entreprise_csv.iloc[i]['numeroVoieEtablissement'])))+\" \"+str(entreprise_csv.loc[i][\"typeVoieEtablissement\"])+\" \"+str(entreprise_csv.loc[i][\"libelleVoieEtablissement\"])\n",
    "    \n",
    "    \n",
    "    code_postal = entreprise_csv.loc[i][\"codePostalEtablissement\"]\n",
    "    en_ville = dict_ville[entreprise_csv.loc[i][\"libelleCommuneEtablissement\"]]\n",
    "    \n",
    "    df = pd.DataFrame({'en_id': en_id,\n",
    "                           'en_siren': siren,\n",
    "                           'en_nic': nic,\n",
    "                           'en_nom': nom,\n",
    "                           'en_sa_id_fk': secteur_activite,\n",
    "                           'en_adresse': adresse,\n",
    "                           'en_code_postal':code_postal,\n",
    "                           'en_vi_id_fk':en_ville}, index = [0])\n",
    "    entreprise = entreprise.append(df, ignore_index=True)"
   ]
  },
  {
   "cell_type": "code",
   "execution_count": 87,
   "metadata": {},
   "outputs": [
    {
     "data": {
      "text/html": [
       "<div>\n",
       "<style scoped>\n",
       "    .dataframe tbody tr th:only-of-type {\n",
       "        vertical-align: middle;\n",
       "    }\n",
       "\n",
       "    .dataframe tbody tr th {\n",
       "        vertical-align: top;\n",
       "    }\n",
       "\n",
       "    .dataframe thead th {\n",
       "        text-align: right;\n",
       "    }\n",
       "</style>\n",
       "<table border=\"1\" class=\"dataframe\">\n",
       "  <thead>\n",
       "    <tr style=\"text-align: right;\">\n",
       "      <th></th>\n",
       "      <th>en_id</th>\n",
       "      <th>en_siren</th>\n",
       "      <th>en_nic</th>\n",
       "      <th>en_nom</th>\n",
       "      <th>en_sa_id_fk</th>\n",
       "      <th>en_adresse</th>\n",
       "      <th>en_code_postal</th>\n",
       "      <th>en_vi_id_fk</th>\n",
       "    </tr>\n",
       "  </thead>\n",
       "  <tbody>\n",
       "    <tr>\n",
       "      <th>0</th>\n",
       "      <td>631096522</td>\n",
       "      <td>6310965</td>\n",
       "      <td>22</td>\n",
       "      <td>NaN</td>\n",
       "      <td>12</td>\n",
       "      <td>av gaston de fontmichel</td>\n",
       "      <td>06210</td>\n",
       "      <td>4</td>\n",
       "    </tr>\n",
       "    <tr>\n",
       "      <th>1</th>\n",
       "      <td>1558007934</td>\n",
       "      <td>15580079</td>\n",
       "      <td>34</td>\n",
       "      <td>societe immobiliere walter sperger</td>\n",
       "      <td>12</td>\n",
       "      <td>2 bd leader</td>\n",
       "      <td>06150</td>\n",
       "      <td>1</td>\n",
       "    </tr>\n",
       "    <tr>\n",
       "      <th>...</th>\n",
       "      <td>...</td>\n",
       "      <td>...</td>\n",
       "      <td>...</td>\n",
       "      <td>...</td>\n",
       "      <td>...</td>\n",
       "      <td>...</td>\n",
       "      <td>...</td>\n",
       "      <td>...</td>\n",
       "    </tr>\n",
       "    <tr>\n",
       "      <th>1998</th>\n",
       "      <td>32131425412</td>\n",
       "      <td>321314254</td>\n",
       "      <td>12</td>\n",
       "      <td>soc particuliere janau</td>\n",
       "      <td>12</td>\n",
       "      <td>70 rue georges clemenceau</td>\n",
       "      <td>06400</td>\n",
       "      <td>1</td>\n",
       "    </tr>\n",
       "    <tr>\n",
       "      <th>1999</th>\n",
       "      <td>32133932717</td>\n",
       "      <td>321339327</td>\n",
       "      <td>17</td>\n",
       "      <td>NaN</td>\n",
       "      <td>17</td>\n",
       "      <td>23 rue jean de riouffe</td>\n",
       "      <td>06400</td>\n",
       "      <td>1</td>\n",
       "    </tr>\n",
       "  </tbody>\n",
       "</table>\n",
       "<p>2000 rows × 8 columns</p>\n",
       "</div>"
      ],
      "text/plain": [
       "            en_id   en_siren en_nic                              en_nom  \\\n",
       "0       631096522    6310965     22                                 NaN   \n",
       "1      1558007934   15580079     34  societe immobiliere walter sperger   \n",
       "...           ...        ...    ...                                 ...   \n",
       "1998  32131425412  321314254     12              soc particuliere janau   \n",
       "1999  32133932717  321339327     17                                 NaN   \n",
       "\n",
       "     en_sa_id_fk                 en_adresse en_code_postal en_vi_id_fk  \n",
       "0             12    av gaston de fontmichel          06210           4  \n",
       "1             12                2 bd leader          06150           1  \n",
       "...          ...                        ...            ...         ...  \n",
       "1998          12  70 rue georges clemenceau          06400           1  \n",
       "1999          17     23 rue jean de riouffe          06400           1  \n",
       "\n",
       "[2000 rows x 8 columns]"
      ]
     },
     "execution_count": 87,
     "metadata": {},
     "output_type": "execute_result"
    }
   ],
   "source": [
    "# Apercu du DataFrame entreprise\n",
    "entreprise"
   ]
  },
  {
   "cell_type": "markdown",
   "metadata": {},
   "source": [
    "---"
   ]
  },
  {
   "cell_type": "markdown",
   "metadata": {},
   "source": [
    "## Création du DataFrame secteur_activite"
   ]
  },
  {
   "cell_type": "code",
   "execution_count": 88,
   "metadata": {},
   "outputs": [],
   "source": [
    "# On utilise le fichier code naf pour le DataFrame secteur activité\n",
    "secteur_activite = pd.DataFrame(code_naf, columns = [\"sa_id\", \"Libellé\"])\n",
    "secteur_activite[\"sa_id\"] = secteur_activite.index + 1\n",
    "secteur_activite.rename(columns={\"Libellé\": \"sa_nom\"},inplace=True)"
   ]
  },
  {
   "cell_type": "code",
   "execution_count": 89,
   "metadata": {},
   "outputs": [
    {
     "data": {
      "text/html": [
       "<div>\n",
       "<style scoped>\n",
       "    .dataframe tbody tr th:only-of-type {\n",
       "        vertical-align: middle;\n",
       "    }\n",
       "\n",
       "    .dataframe tbody tr th {\n",
       "        vertical-align: top;\n",
       "    }\n",
       "\n",
       "    .dataframe thead th {\n",
       "        text-align: right;\n",
       "    }\n",
       "</style>\n",
       "<table border=\"1\" class=\"dataframe\">\n",
       "  <thead>\n",
       "    <tr style=\"text-align: right;\">\n",
       "      <th></th>\n",
       "      <th>sa_id</th>\n",
       "      <th>sa_nom</th>\n",
       "    </tr>\n",
       "  </thead>\n",
       "  <tbody>\n",
       "    <tr>\n",
       "      <th>0</th>\n",
       "      <td>1</td>\n",
       "      <td>Agriculture, sylviculture et pêche</td>\n",
       "    </tr>\n",
       "    <tr>\n",
       "      <th>1</th>\n",
       "      <td>2</td>\n",
       "      <td>Industries extractives</td>\n",
       "    </tr>\n",
       "    <tr>\n",
       "      <th>...</th>\n",
       "      <td>...</td>\n",
       "      <td>...</td>\n",
       "    </tr>\n",
       "    <tr>\n",
       "      <th>19</th>\n",
       "      <td>20</td>\n",
       "      <td>Activités des ménages en tant qu'employeurs ; ...</td>\n",
       "    </tr>\n",
       "    <tr>\n",
       "      <th>20</th>\n",
       "      <td>21</td>\n",
       "      <td>Activités extra-territoriales</td>\n",
       "    </tr>\n",
       "  </tbody>\n",
       "</table>\n",
       "<p>21 rows × 2 columns</p>\n",
       "</div>"
      ],
      "text/plain": [
       "    sa_id                                             sa_nom\n",
       "0       1                 Agriculture, sylviculture et pêche\n",
       "1       2                             Industries extractives\n",
       "..    ...                                                ...\n",
       "19     20  Activités des ménages en tant qu'employeurs ; ...\n",
       "20     21                      Activités extra-territoriales\n",
       "\n",
       "[21 rows x 2 columns]"
      ]
     },
     "execution_count": 89,
     "metadata": {},
     "output_type": "execute_result"
    }
   ],
   "source": [
    "# Apercu du DataFrame sesecteur_activite\n",
    "secteur_activite"
   ]
  },
  {
   "cell_type": "markdown",
   "metadata": {},
   "source": [
    "---"
   ]
  },
  {
   "cell_type": "markdown",
   "metadata": {},
   "source": [
    "## Création du DataFrame categorie_socio_pro"
   ]
  },
  {
   "cell_type": "code",
   "execution_count": 90,
   "metadata": {},
   "outputs": [],
   "source": [
    "# On utilise le fichier CSP_15_24 pour le DataFrame categorie_socio_pro\n",
    "categorie_socio_pro = pd.DataFrame(CSP_15_24, columns =[\"csp_id\",\"Catégorie\"])\n",
    "categorie_socio_pro[\"csp_id\"] = categorie_socio_pro.index + 1\n",
    "categorie_socio_pro.rename(columns = {\"Catégorie\": \"csp_nom\"},inplace=True)"
   ]
  },
  {
   "cell_type": "code",
   "execution_count": 91,
   "metadata": {},
   "outputs": [
    {
     "data": {
      "text/html": [
       "<div>\n",
       "<style scoped>\n",
       "    .dataframe tbody tr th:only-of-type {\n",
       "        vertical-align: middle;\n",
       "    }\n",
       "\n",
       "    .dataframe tbody tr th {\n",
       "        vertical-align: top;\n",
       "    }\n",
       "\n",
       "    .dataframe thead th {\n",
       "        text-align: right;\n",
       "    }\n",
       "</style>\n",
       "<table border=\"1\" class=\"dataframe\">\n",
       "  <thead>\n",
       "    <tr style=\"text-align: right;\">\n",
       "      <th></th>\n",
       "      <th>csp_id</th>\n",
       "      <th>csp_nom</th>\n",
       "    </tr>\n",
       "  </thead>\n",
       "  <tbody>\n",
       "    <tr>\n",
       "      <th>0</th>\n",
       "      <td>1</td>\n",
       "      <td>Agriculteurs exploitants</td>\n",
       "    </tr>\n",
       "    <tr>\n",
       "      <th>1</th>\n",
       "      <td>2</td>\n",
       "      <td>Artisans. commerçants. chefs entreprise</td>\n",
       "    </tr>\n",
       "    <tr>\n",
       "      <th>...</th>\n",
       "      <td>...</td>\n",
       "      <td>...</td>\n",
       "    </tr>\n",
       "    <tr>\n",
       "      <th>7</th>\n",
       "      <td>8</td>\n",
       "      <td>Autres personnes sans activité professionnelle</td>\n",
       "    </tr>\n",
       "    <tr>\n",
       "      <th>8</th>\n",
       "      <td>9</td>\n",
       "      <td>Total</td>\n",
       "    </tr>\n",
       "  </tbody>\n",
       "</table>\n",
       "<p>9 rows × 2 columns</p>\n",
       "</div>"
      ],
      "text/plain": [
       "    csp_id                                         csp_nom\n",
       "0        1                        Agriculteurs exploitants\n",
       "1        2         Artisans. commerçants. chefs entreprise\n",
       "..     ...                                             ...\n",
       "7        8  Autres personnes sans activité professionnelle\n",
       "8        9                                           Total\n",
       "\n",
       "[9 rows x 2 columns]"
      ]
     },
     "execution_count": 91,
     "metadata": {},
     "output_type": "execute_result"
    }
   ],
   "source": [
    "# Apercu du DataFrame categorie_socio_pro\n",
    "categorie_socio_pro"
   ]
  },
  {
   "cell_type": "markdown",
   "metadata": {},
   "source": [
    "---"
   ]
  },
  {
   "cell_type": "markdown",
   "metadata": {},
   "source": [
    "## Création du DataFrame age"
   ]
  },
  {
   "cell_type": "code",
   "execution_count": 92,
   "metadata": {},
   "outputs": [],
   "source": [
    "liste_ag_id = [1,2,3]\n",
    "liste_ag_nom = [\"15 a 24\", \"25 a 54\",\"55 et plus\"]\n",
    "age = pd.DataFrame({'ag_id': liste_ag_id,\n",
    "                     'ag_tranche_age': liste_ag_nom})"
   ]
  },
  {
   "cell_type": "code",
   "execution_count": 93,
   "metadata": {},
   "outputs": [
    {
     "data": {
      "text/html": [
       "<div>\n",
       "<style scoped>\n",
       "    .dataframe tbody tr th:only-of-type {\n",
       "        vertical-align: middle;\n",
       "    }\n",
       "\n",
       "    .dataframe tbody tr th {\n",
       "        vertical-align: top;\n",
       "    }\n",
       "\n",
       "    .dataframe thead th {\n",
       "        text-align: right;\n",
       "    }\n",
       "</style>\n",
       "<table border=\"1\" class=\"dataframe\">\n",
       "  <thead>\n",
       "    <tr style=\"text-align: right;\">\n",
       "      <th></th>\n",
       "      <th>ag_id</th>\n",
       "      <th>ag_tranche_age</th>\n",
       "    </tr>\n",
       "  </thead>\n",
       "  <tbody>\n",
       "    <tr>\n",
       "      <th>0</th>\n",
       "      <td>1</td>\n",
       "      <td>15 a 24</td>\n",
       "    </tr>\n",
       "    <tr>\n",
       "      <th>1</th>\n",
       "      <td>2</td>\n",
       "      <td>25 a 54</td>\n",
       "    </tr>\n",
       "    <tr>\n",
       "      <th>2</th>\n",
       "      <td>3</td>\n",
       "      <td>55 et plus</td>\n",
       "    </tr>\n",
       "  </tbody>\n",
       "</table>\n",
       "</div>"
      ],
      "text/plain": [
       "   ag_id ag_tranche_age\n",
       "0      1        15 a 24\n",
       "1      2        25 a 54\n",
       "2      3     55 et plus"
      ]
     },
     "execution_count": 93,
     "metadata": {},
     "output_type": "execute_result"
    }
   ],
   "source": [
    "# Apercu du DataFrame age\n",
    "age"
   ]
  },
  {
   "cell_type": "markdown",
   "metadata": {},
   "source": [
    "---"
   ]
  },
  {
   "cell_type": "markdown",
   "metadata": {},
   "source": [
    "## Création du DataFrame age du DataFrame population"
   ]
  },
  {
   "cell_type": "code",
   "execution_count": 94,
   "metadata": {},
   "outputs": [],
   "source": [
    "# On rectifie l'ortographe de la colonne Theoule-Sur-Mer\n",
    "CSP_25_54.rename(columns={\"Théoule-Sur-Mer\": \"Theoule-Sur-Mer\"}, inplace = True)\n",
    "CSP_55_plus.rename(columns={\"Théoule-Sur-Mer\": \"Theoule-Sur-Mer\"}, inplace = True)\n",
    "# On rectifie l'ortographe de la colonne Le Cannet\n",
    "CSP_55_plus.rename(columns={\"le Cannet\": \"Le Cannet\"}, inplace = True)"
   ]
  },
  {
   "cell_type": "code",
   "execution_count": 95,
   "metadata": {},
   "outputs": [],
   "source": [
    "# Création d'une fonction add_df qui renvoie un DataFrame adapté pour la table population\n",
    "def add_df(df):\n",
    "    # Création d'un DataFrame adapté pour la table population\n",
    "    dataf = pd.DataFrame(columns = [\"po_id\",\"po_source\", \"po_annee\", \"po_nbre_pop\", \"po_csp_id_fk\", \"po_ag_id_fk\", \"po_vi_id_fk\"])\n",
    "    # Dans une premiere boucle on itère sur le nbre de ligne qui correcpond à csp\n",
    "    for i in df.index:\n",
    "        # Dans une deuxieme boucle imbriquer on itère sur le nbre de colonne qui correspond aux villes\n",
    "        for j in df.columns[1:]:\n",
    "            nbre = df.iloc[i][j]\n",
    "            ville1 = dict_ville[j]\n",
    "            csp = i + 1\n",
    "            DF = pd.DataFrame({'po_id': i,\n",
    "                           'po_source': \"Insee, Recensement de la population (RP), exploitation complémentaire - 2017\",\n",
    "                           'po_annee': 2017,\n",
    "                           'po_nbre_pop': nbre,\n",
    "                           'po_csp_id_fk': csp,\n",
    "                           'po_vi_id_fk': ville1}, index = [0])\n",
    "            dataf = dataf.append(DF, ignore_index=True)\n",
    "    return dataf"
   ]
  },
  {
   "cell_type": "code",
   "execution_count": 96,
   "metadata": {},
   "outputs": [],
   "source": [
    "# On utilise la fonction add_df pour creer des dataframe en fonction de la tranche d'age\n",
    "population15_24 = add_df(CSP_15_24)\n",
    "population25_54 = add_df(CSP_25_54)\n",
    "population55_plus = add_df(CSP_55_plus)\n",
    "\n",
    "# On assigne la clé entrangère de la table age\n",
    "password = Bin_(config[\"password\"])._UserP()\n",
    "population15_24['po_ag_id_fk']=1\n",
    "population25_54['po_ag_id_fk']=2\n",
    "population55_plus['po_ag_id_fk']=3\n",
    "\n",
    "# On réunis les 3 DataFrames dans le DataFrame poplulation\n",
    "population = pd.concat([population15_24,population25_54,population55_plus])\n",
    "population.reset_index(inplace = True)\n",
    "population['po_id'] = population.index\n",
    "population.drop(columns=['index'], inplace=True)\n",
    "\n",
    "# On modifie le type de po_année\n",
    "# population['po_annee']= pd.to_datetime(population['po_annee'], format=\"%Y\")"
   ]
  },
  {
   "cell_type": "code",
   "execution_count": 97,
   "metadata": {},
   "outputs": [
    {
     "data": {
      "text/html": [
       "<div>\n",
       "<style scoped>\n",
       "    .dataframe tbody tr th:only-of-type {\n",
       "        vertical-align: middle;\n",
       "    }\n",
       "\n",
       "    .dataframe tbody tr th {\n",
       "        vertical-align: top;\n",
       "    }\n",
       "\n",
       "    .dataframe thead th {\n",
       "        text-align: right;\n",
       "    }\n",
       "</style>\n",
       "<table border=\"1\" class=\"dataframe\">\n",
       "  <thead>\n",
       "    <tr style=\"text-align: right;\">\n",
       "      <th></th>\n",
       "      <th>po_id</th>\n",
       "      <th>po_source</th>\n",
       "      <th>po_annee</th>\n",
       "      <th>po_nbre_pop</th>\n",
       "      <th>po_csp_id_fk</th>\n",
       "      <th>po_ag_id_fk</th>\n",
       "      <th>po_vi_id_fk</th>\n",
       "    </tr>\n",
       "  </thead>\n",
       "  <tbody>\n",
       "    <tr>\n",
       "      <th>0</th>\n",
       "      <td>0</td>\n",
       "      <td>Insee, Recensement de la population (RP), expl...</td>\n",
       "      <td>2017</td>\n",
       "      <td>0</td>\n",
       "      <td>1</td>\n",
       "      <td>1</td>\n",
       "      <td>4</td>\n",
       "    </tr>\n",
       "    <tr>\n",
       "      <th>1</th>\n",
       "      <td>1</td>\n",
       "      <td>Insee, Recensement de la population (RP), expl...</td>\n",
       "      <td>2017</td>\n",
       "      <td>0</td>\n",
       "      <td>1</td>\n",
       "      <td>1</td>\n",
       "      <td>3</td>\n",
       "    </tr>\n",
       "    <tr>\n",
       "      <th>...</th>\n",
       "      <td>...</td>\n",
       "      <td>...</td>\n",
       "      <td>...</td>\n",
       "      <td>...</td>\n",
       "      <td>...</td>\n",
       "      <td>...</td>\n",
       "      <td>...</td>\n",
       "    </tr>\n",
       "    <tr>\n",
       "      <th>133</th>\n",
       "      <td>133</td>\n",
       "      <td>Insee, Recensement de la population (RP), expl...</td>\n",
       "      <td>2017</td>\n",
       "      <td>31161</td>\n",
       "      <td>9</td>\n",
       "      <td>3</td>\n",
       "      <td>1</td>\n",
       "    </tr>\n",
       "    <tr>\n",
       "      <th>134</th>\n",
       "      <td>134</td>\n",
       "      <td>Insee, Recensement de la population (RP), expl...</td>\n",
       "      <td>2017</td>\n",
       "      <td>623</td>\n",
       "      <td>9</td>\n",
       "      <td>3</td>\n",
       "      <td>5</td>\n",
       "    </tr>\n",
       "  </tbody>\n",
       "</table>\n",
       "<p>135 rows × 7 columns</p>\n",
       "</div>"
      ],
      "text/plain": [
       "     po_id                                          po_source po_annee  \\\n",
       "0        0  Insee, Recensement de la population (RP), expl...     2017   \n",
       "1        1  Insee, Recensement de la population (RP), expl...     2017   \n",
       "..     ...                                                ...      ...   \n",
       "133    133  Insee, Recensement de la population (RP), expl...     2017   \n",
       "134    134  Insee, Recensement de la population (RP), expl...     2017   \n",
       "\n",
       "    po_nbre_pop po_csp_id_fk  po_ag_id_fk po_vi_id_fk  \n",
       "0             0            1            1           4  \n",
       "1             0            1            1           3  \n",
       "..          ...          ...          ...         ...  \n",
       "133       31161            9            3           1  \n",
       "134         623            9            3           5  \n",
       "\n",
       "[135 rows x 7 columns]"
      ]
     },
     "execution_count": 97,
     "metadata": {},
     "output_type": "execute_result"
    }
   ],
   "source": [
    "# Apercu du DataFrame population\n",
    "population"
   ]
  },
  {
   "cell_type": "markdown",
   "metadata": {},
   "source": [
    "---"
   ]
  },
  {
   "cell_type": "markdown",
   "metadata": {},
   "source": [
    "## Création du DataFrame categorie_logement"
   ]
  },
  {
   "cell_type": "code",
   "execution_count": 98,
   "metadata": {},
   "outputs": [],
   "source": [
    "# On utilise le fichier logement_par_catégorie pour le DataFrame categorie_logement\n",
    "categorie_logement = pd.DataFrame(logement_par_catégorie, columns =[\"cl_id\",\"Catégorie\"])\n",
    "categorie_logement[\"cl_id\"] = categorie_logement.index + 1\n",
    "categorie_logement.rename(columns = {\"Catégorie\": \"cl_nom\"},inplace=True)"
   ]
  },
  {
   "cell_type": "code",
   "execution_count": 99,
   "metadata": {},
   "outputs": [
    {
     "data": {
      "text/html": [
       "<div>\n",
       "<style scoped>\n",
       "    .dataframe tbody tr th:only-of-type {\n",
       "        vertical-align: middle;\n",
       "    }\n",
       "\n",
       "    .dataframe tbody tr th {\n",
       "        vertical-align: top;\n",
       "    }\n",
       "\n",
       "    .dataframe thead th {\n",
       "        text-align: right;\n",
       "    }\n",
       "</style>\n",
       "<table border=\"1\" class=\"dataframe\">\n",
       "  <thead>\n",
       "    <tr style=\"text-align: right;\">\n",
       "      <th></th>\n",
       "      <th>cl_id</th>\n",
       "      <th>cl_nom</th>\n",
       "    </tr>\n",
       "  </thead>\n",
       "  <tbody>\n",
       "    <tr>\n",
       "      <th>0</th>\n",
       "      <td>1</td>\n",
       "      <td>Résidences principales</td>\n",
       "    </tr>\n",
       "    <tr>\n",
       "      <th>1</th>\n",
       "      <td>2</td>\n",
       "      <td>Résid. secondaires et log. occasionnels</td>\n",
       "    </tr>\n",
       "    <tr>\n",
       "      <th>2</th>\n",
       "      <td>3</td>\n",
       "      <td>Logements vacants</td>\n",
       "    </tr>\n",
       "    <tr>\n",
       "      <th>3</th>\n",
       "      <td>4</td>\n",
       "      <td>Total</td>\n",
       "    </tr>\n",
       "  </tbody>\n",
       "</table>\n",
       "</div>"
      ],
      "text/plain": [
       "   cl_id                                   cl_nom\n",
       "0      1                   Résidences principales\n",
       "1      2  Résid. secondaires et log. occasionnels\n",
       "2      3                        Logements vacants\n",
       "3      4                                    Total"
      ]
     },
     "execution_count": 99,
     "metadata": {},
     "output_type": "execute_result"
    }
   ],
   "source": [
    "# Apercu du DataFrame categorie_logement\n",
    "categorie_logement"
   ]
  },
  {
   "cell_type": "markdown",
   "metadata": {},
   "source": [
    "---"
   ]
  },
  {
   "cell_type": "markdown",
   "metadata": {},
   "source": [
    "## Création du DataFrame logement"
   ]
  },
  {
   "cell_type": "code",
   "execution_count": 100,
   "metadata": {},
   "outputs": [],
   "source": [
    "# On rectifie l'ortographe de la colonne Mandelieu-la-Napoule\n",
    "logement_par_catégorie.rename(columns={\"Mandelieu-la-Napoule\": \"Mandelieu-La-Napoule\"}, inplace = True)\n",
    "# On rectifie l'ortographe de la colonne Theoule-Sur-Mer\n",
    "logement_par_catégorie.rename(columns={\"Théoule-sur-Mer\": \"Theoule-Sur-Mer\"}, inplace = True)"
   ]
  },
  {
   "cell_type": "code",
   "execution_count": 101,
   "metadata": {},
   "outputs": [],
   "source": [
    "# Création du DataFrame logement\n",
    "logement = pd.DataFrame(columns = [\"lo_id\",\"lo_nbre\",\"lo_vi_id_fk\",\"lo_cl_id_fk\"])\n",
    "\n",
    "for i in logement_par_catégorie.index:\n",
    "    for j in logement_par_catégorie.columns[2:]:\n",
    "        nbre_lg = logement_par_catégorie.iloc[i][j]\n",
    "        ville_lg = dict_ville[j]\n",
    "        type_lg = i +1\n",
    "        df_lg = pd.DataFrame({'lo_nbre': nbre_lg,\n",
    "                           'lo_vi_id_fk': ville_lg,\n",
    "                           'lo_cl_id_fk': type_lg}, index = [0])\n",
    "        logement = logement.append(df_lg, ignore_index=True)\n",
    "        \n",
    "logement['lo_id'] = logement.index + 1"
   ]
  },
  {
   "cell_type": "code",
   "execution_count": 102,
   "metadata": {},
   "outputs": [
    {
     "data": {
      "text/html": [
       "<div>\n",
       "<style scoped>\n",
       "    .dataframe tbody tr th:only-of-type {\n",
       "        vertical-align: middle;\n",
       "    }\n",
       "\n",
       "    .dataframe tbody tr th {\n",
       "        vertical-align: top;\n",
       "    }\n",
       "\n",
       "    .dataframe thead th {\n",
       "        text-align: right;\n",
       "    }\n",
       "</style>\n",
       "<table border=\"1\" class=\"dataframe\">\n",
       "  <thead>\n",
       "    <tr style=\"text-align: right;\">\n",
       "      <th></th>\n",
       "      <th>lo_id</th>\n",
       "      <th>lo_nbre</th>\n",
       "      <th>lo_vi_id_fk</th>\n",
       "      <th>lo_cl_id_fk</th>\n",
       "    </tr>\n",
       "  </thead>\n",
       "  <tbody>\n",
       "    <tr>\n",
       "      <th>0</th>\n",
       "      <td>1</td>\n",
       "      <td>11339</td>\n",
       "      <td>4</td>\n",
       "      <td>1</td>\n",
       "    </tr>\n",
       "    <tr>\n",
       "      <th>1</th>\n",
       "      <td>2</td>\n",
       "      <td>8403</td>\n",
       "      <td>3</td>\n",
       "      <td>1</td>\n",
       "    </tr>\n",
       "    <tr>\n",
       "      <th>...</th>\n",
       "      <td>...</td>\n",
       "      <td>...</td>\n",
       "      <td>...</td>\n",
       "      <td>...</td>\n",
       "    </tr>\n",
       "    <tr>\n",
       "      <th>18</th>\n",
       "      <td>19</td>\n",
       "      <td>71264</td>\n",
       "      <td>1</td>\n",
       "      <td>4</td>\n",
       "    </tr>\n",
       "    <tr>\n",
       "      <th>19</th>\n",
       "      <td>20</td>\n",
       "      <td>3335</td>\n",
       "      <td>5</td>\n",
       "      <td>4</td>\n",
       "    </tr>\n",
       "  </tbody>\n",
       "</table>\n",
       "<p>20 rows × 4 columns</p>\n",
       "</div>"
      ],
      "text/plain": [
       "    lo_id lo_nbre lo_vi_id_fk lo_cl_id_fk\n",
       "0       1   11339           4           1\n",
       "1       2    8403           3           1\n",
       "..    ...     ...         ...         ...\n",
       "18     19   71264           1           4\n",
       "19     20    3335           5           4\n",
       "\n",
       "[20 rows x 4 columns]"
      ]
     },
     "execution_count": 102,
     "metadata": {},
     "output_type": "execute_result"
    }
   ],
   "source": [
    "# Apercu du DataFrame logement\n",
    "logement"
   ]
  },
  {
   "cell_type": "markdown",
   "metadata": {},
   "source": [
    "### Exemple de boucle :"
   ]
  },
  {
   "cell_type": "code",
   "execution_count": 103,
   "metadata": {},
   "outputs": [
    {
     "name": "stdout",
     "output_type": "stream",
     "text": [
      "le chiffre est :    11339 ;\tla logement_par_catégorie est : 0 ;\t la ville est : Mandelieu-La-Napoule\n",
      "le chiffre est :    8403 ;\tla logement_par_catégorie est : 0 ;\t la ville est : Mougins\n",
      "le chiffre est :    21276 ;\tla logement_par_catégorie est : 0 ;\t la ville est : Le Cannet\n",
      "le chiffre est :    37735 ;\tla logement_par_catégorie est : 0 ;\t la ville est : Cannes\n",
      "le chiffre est :    694 ;\tla logement_par_catégorie est : 0 ;\t la ville est : Theoule-Sur-Mer\n",
      "le chiffre est :    8694 ;\tla logement_par_catégorie est : 1 ;\t la ville est : Mandelieu-La-Napoule\n",
      "le chiffre est :    1983 ;\tla logement_par_catégorie est : 1 ;\t la ville est : Mougins\n",
      "le chiffre est :    4104 ;\tla logement_par_catégorie est : 1 ;\t la ville est : Le Cannet\n",
      "le chiffre est :    31433 ;\tla logement_par_catégorie est : 1 ;\t la ville est : Cannes\n",
      "le chiffre est :    2564 ;\tla logement_par_catégorie est : 1 ;\t la ville est : Theoule-Sur-Mer\n",
      "le chiffre est :    1201 ;\tla logement_par_catégorie est : 2 ;\t la ville est : Mandelieu-La-Napoule\n",
      "le chiffre est :    501 ;\tla logement_par_catégorie est : 2 ;\t la ville est : Mougins\n",
      "le chiffre est :    940 ;\tla logement_par_catégorie est : 2 ;\t la ville est : Le Cannet\n",
      "le chiffre est :    2096 ;\tla logement_par_catégorie est : 2 ;\t la ville est : Cannes\n",
      "le chiffre est :    77 ;\tla logement_par_catégorie est : 2 ;\t la ville est : Theoule-Sur-Mer\n",
      "le chiffre est :    21234 ;\tla logement_par_catégorie est : 3 ;\t la ville est : Mandelieu-La-Napoule\n",
      "le chiffre est :    10887 ;\tla logement_par_catégorie est : 3 ;\t la ville est : Mougins\n",
      "le chiffre est :    26320 ;\tla logement_par_catégorie est : 3 ;\t la ville est : Le Cannet\n",
      "le chiffre est :    71264 ;\tla logement_par_catégorie est : 3 ;\t la ville est : Cannes\n",
      "le chiffre est :    3335 ;\tla logement_par_catégorie est : 3 ;\t la ville est : Theoule-Sur-Mer\n"
     ]
    }
   ],
   "source": [
    "for i in logement_par_catégorie.index:\n",
    "    for j in logement_par_catégorie.columns[2:]:\n",
    "        print(\"le chiffre est :   \", logement_par_catégorie.iloc[i][j],\";\\tla logement_par_catégorie est :\", i,\";\\t la ville est :\", str(j))"
   ]
  },
  {
   "cell_type": "markdown",
   "metadata": {},
   "source": [
    "### Analyse du jeu de données"
   ]
  },
  {
   "cell_type": "code",
   "execution_count": 104,
   "metadata": {},
   "outputs": [
    {
     "name": "stdout",
     "output_type": "stream",
     "text": [
      "Le jeu de donnees compte 2000 entreprises localisées dans les  5 villes de l'agglomération.\n"
     ]
    }
   ],
   "source": [
    "print(\"Le jeu de donnees compte\", entreprise.shape[0], \"entreprises localisées dans les \", ville.shape[0], \"villes de l'agglomération.\")"
   ]
  },
  {
   "cell_type": "markdown",
   "metadata": {},
   "source": [
    "### Décompte des secteurs d'activités"
   ]
  },
  {
   "cell_type": "code",
   "execution_count": 137,
   "metadata": {},
   "outputs": [
    {
     "data": {
      "text/plain": [
       "commune de cannes                   56\n",
       "commune le cannet                   25\n",
       "commune de mandelieu la napoule     17\n",
       "commune de mougins                  16\n",
       "centre communal d'action sociale    15\n",
       "Name: en_nom, dtype: int64"
      ]
     },
     "execution_count": 137,
     "metadata": {},
     "output_type": "execute_result"
    }
   ],
   "source": [
    "en_vc = entreprise['en_nom'].value_counts()\n",
    "en_vc.head(5)"
   ]
  },
  {
   "cell_type": "markdown",
   "metadata": {},
   "source": [
    "### Générer le résumé statistique du dataframe"
   ]
  },
  {
   "cell_type": "code",
   "execution_count": 106,
   "metadata": {},
   "outputs": [
    {
     "data": {
      "text/html": [
       "<div>\n",
       "<style scoped>\n",
       "    .dataframe tbody tr th:only-of-type {\n",
       "        vertical-align: middle;\n",
       "    }\n",
       "\n",
       "    .dataframe tbody tr th {\n",
       "        vertical-align: top;\n",
       "    }\n",
       "\n",
       "    .dataframe thead th {\n",
       "        text-align: right;\n",
       "    }\n",
       "</style>\n",
       "<table border=\"1\" class=\"dataframe\">\n",
       "  <thead>\n",
       "    <tr style=\"text-align: right;\">\n",
       "      <th></th>\n",
       "      <th>po_id</th>\n",
       "      <th>po_source</th>\n",
       "      <th>po_annee</th>\n",
       "      <th>po_nbre_pop</th>\n",
       "      <th>po_csp_id_fk</th>\n",
       "      <th>po_ag_id_fk</th>\n",
       "      <th>po_vi_id_fk</th>\n",
       "    </tr>\n",
       "  </thead>\n",
       "  <tbody>\n",
       "    <tr>\n",
       "      <th>count</th>\n",
       "      <td>135.0</td>\n",
       "      <td>135</td>\n",
       "      <td>135.0</td>\n",
       "      <td>135.0</td>\n",
       "      <td>135.0</td>\n",
       "      <td>135.0</td>\n",
       "      <td>135.0</td>\n",
       "    </tr>\n",
       "    <tr>\n",
       "      <th>unique</th>\n",
       "      <td>NaN</td>\n",
       "      <td>1</td>\n",
       "      <td>1.0</td>\n",
       "      <td>110.0</td>\n",
       "      <td>9.0</td>\n",
       "      <td>NaN</td>\n",
       "      <td>5.0</td>\n",
       "    </tr>\n",
       "    <tr>\n",
       "      <th>...</th>\n",
       "      <td>...</td>\n",
       "      <td>...</td>\n",
       "      <td>...</td>\n",
       "      <td>...</td>\n",
       "      <td>...</td>\n",
       "      <td>...</td>\n",
       "      <td>...</td>\n",
       "    </tr>\n",
       "    <tr>\n",
       "      <th>75%</th>\n",
       "      <td>100.5</td>\n",
       "      <td>NaN</td>\n",
       "      <td>NaN</td>\n",
       "      <td>NaN</td>\n",
       "      <td>NaN</td>\n",
       "      <td>3.0</td>\n",
       "      <td>NaN</td>\n",
       "    </tr>\n",
       "    <tr>\n",
       "      <th>max</th>\n",
       "      <td>134.0</td>\n",
       "      <td>NaN</td>\n",
       "      <td>NaN</td>\n",
       "      <td>NaN</td>\n",
       "      <td>NaN</td>\n",
       "      <td>3.0</td>\n",
       "      <td>NaN</td>\n",
       "    </tr>\n",
       "  </tbody>\n",
       "</table>\n",
       "<p>11 rows × 7 columns</p>\n",
       "</div>"
      ],
      "text/plain": [
       "        po_id po_source  po_annee  po_nbre_pop  po_csp_id_fk  po_ag_id_fk  \\\n",
       "count   135.0       135     135.0        135.0         135.0        135.0   \n",
       "unique    NaN         1       1.0        110.0           9.0          NaN   \n",
       "...       ...       ...       ...          ...           ...          ...   \n",
       "75%     100.5       NaN       NaN          NaN           NaN          3.0   \n",
       "max     134.0       NaN       NaN          NaN           NaN          3.0   \n",
       "\n",
       "        po_vi_id_fk  \n",
       "count         135.0  \n",
       "unique          5.0  \n",
       "...             ...  \n",
       "75%             NaN  \n",
       "max             NaN  \n",
       "\n",
       "[11 rows x 7 columns]"
      ]
     },
     "execution_count": 106,
     "metadata": {},
     "output_type": "execute_result"
    }
   ],
   "source": [
    "population.describe(include='all')"
   ]
  },
  {
   "cell_type": "code",
   "execution_count": 107,
   "metadata": {},
   "outputs": [
    {
     "data": {
      "text/html": [
       "<div>\n",
       "<style scoped>\n",
       "    .dataframe tbody tr th:only-of-type {\n",
       "        vertical-align: middle;\n",
       "    }\n",
       "\n",
       "    .dataframe tbody tr th {\n",
       "        vertical-align: top;\n",
       "    }\n",
       "\n",
       "    .dataframe thead th {\n",
       "        text-align: right;\n",
       "    }\n",
       "</style>\n",
       "<table border=\"1\" class=\"dataframe\">\n",
       "  <thead>\n",
       "    <tr style=\"text-align: right;\">\n",
       "      <th></th>\n",
       "      <th>en_id</th>\n",
       "      <th>en_siren</th>\n",
       "      <th>en_nic</th>\n",
       "      <th>en_nom</th>\n",
       "      <th>en_sa_id_fk</th>\n",
       "      <th>en_adresse</th>\n",
       "      <th>en_code_postal</th>\n",
       "      <th>en_vi_id_fk</th>\n",
       "    </tr>\n",
       "  </thead>\n",
       "  <tbody>\n",
       "    <tr>\n",
       "      <th>count</th>\n",
       "      <td>2000</td>\n",
       "      <td>2000</td>\n",
       "      <td>2000</td>\n",
       "      <td>1410</td>\n",
       "      <td>2000</td>\n",
       "      <td>2000</td>\n",
       "      <td>2000</td>\n",
       "      <td>2000</td>\n",
       "    </tr>\n",
       "    <tr>\n",
       "      <th>unique</th>\n",
       "      <td>2000</td>\n",
       "      <td>1703</td>\n",
       "      <td>320</td>\n",
       "      <td>1144</td>\n",
       "      <td>18</td>\n",
       "      <td>1535</td>\n",
       "      <td>6</td>\n",
       "      <td>5</td>\n",
       "    </tr>\n",
       "    <tr>\n",
       "      <th>top</th>\n",
       "      <td>30774860814</td>\n",
       "      <td>210600292</td>\n",
       "      <td>14</td>\n",
       "      <td>commune de cannes</td>\n",
       "      <td>14</td>\n",
       "      <td>pl de l hotel de ville</td>\n",
       "      <td>06400</td>\n",
       "      <td>1</td>\n",
       "    </tr>\n",
       "    <tr>\n",
       "      <th>freq</th>\n",
       "      <td>1</td>\n",
       "      <td>56</td>\n",
       "      <td>104</td>\n",
       "      <td>56</td>\n",
       "      <td>521</td>\n",
       "      <td>13</td>\n",
       "      <td>1003</td>\n",
       "      <td>1210</td>\n",
       "    </tr>\n",
       "  </tbody>\n",
       "</table>\n",
       "</div>"
      ],
      "text/plain": [
       "              en_id   en_siren  en_nic             en_nom  en_sa_id_fk  \\\n",
       "count          2000       2000    2000               1410         2000   \n",
       "unique         2000       1703     320               1144           18   \n",
       "top     30774860814  210600292      14  commune de cannes           14   \n",
       "freq              1         56     104                 56          521   \n",
       "\n",
       "                     en_adresse en_code_postal  en_vi_id_fk  \n",
       "count                      2000           2000         2000  \n",
       "unique                     1535              6            5  \n",
       "top      pl de l hotel de ville          06400            1  \n",
       "freq                         13           1003         1210  "
      ]
     },
     "execution_count": 107,
     "metadata": {},
     "output_type": "execute_result"
    }
   ],
   "source": [
    "entreprise.describe(include='all')"
   ]
  },
  {
   "cell_type": "markdown",
   "metadata": {},
   "source": [
    "---"
   ]
  },
  {
   "cell_type": "markdown",
   "metadata": {},
   "source": [
    "# <p style=\"font-family: serif; font-size:2.2em; text-align: center;\"><u>Data Cleaning DataFrames</u></p> "
   ]
  },
  {
   "cell_type": "markdown",
   "metadata": {},
   "source": [
    "L'Institut national de la statistique et des études économiques est une direction générale du ministère de l'Économie et des Finances. Il a pour mission de collecter, analyser et diffuser des informations sur l'économie et la société française sur l'ensemble de son territoire.\n",
    "\n",
    "L'INSEE est ainsi un organisme qui publie des statistiques officielles. Les données qui en ressortent sont dons déjà fiables, néttoyées. Les csv ne devraient donc pas nécessairement avoir besoin d'etre nottoyés.\n",
    "\n",
    "Pour pour s'assurer de l'intégrité de nos données, nous allons tout de meme y mener quelques vérifications."
   ]
  },
  {
   "cell_type": "markdown",
   "metadata": {},
   "source": [
    "# Décompte des valeurs manquantes "
   ]
  },
  {
   "cell_type": "markdown",
   "metadata": {},
   "source": [
    "### Dataframe Ville"
   ]
  },
  {
   "cell_type": "code",
   "execution_count": 80,
   "metadata": {},
   "outputs": [
    {
     "data": {
      "text/plain": [
       "vi_id     0\n",
       "vi_nom    0\n",
       "dtype: int64"
      ]
     },
     "execution_count": 80,
     "metadata": {},
     "output_type": "execute_result"
    }
   ],
   "source": [
    "ville.isna().sum()"
   ]
  },
  {
   "cell_type": "code",
   "execution_count": 81,
   "metadata": {},
   "outputs": [
    {
     "data": {
      "text/plain": [
       "0"
      ]
     },
     "execution_count": 81,
     "metadata": {},
     "output_type": "execute_result"
    }
   ],
   "source": [
    "ville.duplicated().sum()"
   ]
  },
  {
   "cell_type": "markdown",
   "metadata": {},
   "source": [
    "---"
   ]
  },
  {
   "cell_type": "markdown",
   "metadata": {},
   "source": [
    "### Dataframe secteur_activite"
   ]
  },
  {
   "cell_type": "code",
   "execution_count": 117,
   "metadata": {},
   "outputs": [
    {
     "data": {
      "text/plain": [
       "sa_id     0\n",
       "sa_nom    0\n",
       "dtype: int64"
      ]
     },
     "execution_count": 117,
     "metadata": {},
     "output_type": "execute_result"
    }
   ],
   "source": [
    "secteur_activite.isna().sum()"
   ]
  },
  {
   "cell_type": "code",
   "execution_count": 118,
   "metadata": {},
   "outputs": [
    {
     "data": {
      "text/plain": [
       "0"
      ]
     },
     "execution_count": 118,
     "metadata": {},
     "output_type": "execute_result"
    }
   ],
   "source": [
    "secteur_activite.duplicated().sum()"
   ]
  },
  {
   "cell_type": "markdown",
   "metadata": {},
   "source": [
    "---"
   ]
  },
  {
   "cell_type": "markdown",
   "metadata": {},
   "source": [
    "### Dataframe categorie_socio_pro"
   ]
  },
  {
   "cell_type": "code",
   "execution_count": 119,
   "metadata": {},
   "outputs": [
    {
     "data": {
      "text/plain": [
       "csp_id     0\n",
       "csp_nom    0\n",
       "dtype: int64"
      ]
     },
     "execution_count": 119,
     "metadata": {},
     "output_type": "execute_result"
    }
   ],
   "source": [
    "categorie_socio_pro.isna().sum()"
   ]
  },
  {
   "cell_type": "code",
   "execution_count": 120,
   "metadata": {},
   "outputs": [
    {
     "data": {
      "text/plain": [
       "0"
      ]
     },
     "execution_count": 120,
     "metadata": {},
     "output_type": "execute_result"
    }
   ],
   "source": [
    "categorie_socio_pro.duplicated().sum()"
   ]
  },
  {
   "cell_type": "markdown",
   "metadata": {},
   "source": [
    "---"
   ]
  },
  {
   "cell_type": "markdown",
   "metadata": {},
   "source": [
    "### Dataframe age"
   ]
  },
  {
   "cell_type": "code",
   "execution_count": 121,
   "metadata": {},
   "outputs": [
    {
     "data": {
      "text/plain": [
       "ag_id             0\n",
       "ag_tranche_age    0\n",
       "dtype: int64"
      ]
     },
     "execution_count": 121,
     "metadata": {},
     "output_type": "execute_result"
    }
   ],
   "source": [
    "age.isna().sum()"
   ]
  },
  {
   "cell_type": "code",
   "execution_count": 122,
   "metadata": {},
   "outputs": [
    {
     "data": {
      "text/plain": [
       "0"
      ]
     },
     "execution_count": 122,
     "metadata": {},
     "output_type": "execute_result"
    }
   ],
   "source": [
    "age.duplicated().sum()"
   ]
  },
  {
   "cell_type": "markdown",
   "metadata": {},
   "source": [
    "---"
   ]
  },
  {
   "cell_type": "markdown",
   "metadata": {},
   "source": [
    "### Dataframe categorie_logement"
   ]
  },
  {
   "cell_type": "code",
   "execution_count": 123,
   "metadata": {},
   "outputs": [
    {
     "data": {
      "text/plain": [
       "cl_id     0\n",
       "cl_nom    0\n",
       "dtype: int64"
      ]
     },
     "execution_count": 123,
     "metadata": {},
     "output_type": "execute_result"
    }
   ],
   "source": [
    "categorie_logement.isna().sum()"
   ]
  },
  {
   "cell_type": "code",
   "execution_count": 124,
   "metadata": {},
   "outputs": [
    {
     "data": {
      "text/plain": [
       "0"
      ]
     },
     "execution_count": 124,
     "metadata": {},
     "output_type": "execute_result"
    }
   ],
   "source": [
    "categorie_logement.duplicated().sum()"
   ]
  },
  {
   "cell_type": "markdown",
   "metadata": {},
   "source": [
    "---"
   ]
  },
  {
   "cell_type": "markdown",
   "metadata": {},
   "source": [
    "### Dataframe logement"
   ]
  },
  {
   "cell_type": "code",
   "execution_count": 125,
   "metadata": {},
   "outputs": [
    {
     "data": {
      "text/plain": [
       "lo_id          0\n",
       "lo_nbre        0\n",
       "lo_vi_id_fk    0\n",
       "lo_cl_id_fk    0\n",
       "dtype: int64"
      ]
     },
     "execution_count": 125,
     "metadata": {},
     "output_type": "execute_result"
    }
   ],
   "source": [
    "logement.isna().sum()"
   ]
  },
  {
   "cell_type": "code",
   "execution_count": 126,
   "metadata": {},
   "outputs": [
    {
     "data": {
      "text/plain": [
       "0"
      ]
     },
     "execution_count": 126,
     "metadata": {},
     "output_type": "execute_result"
    }
   ],
   "source": [
    "logement.duplicated().sum()"
   ]
  },
  {
   "cell_type": "markdown",
   "metadata": {},
   "source": [
    "---"
   ]
  },
  {
   "cell_type": "markdown",
   "metadata": {},
   "source": [
    "### Dataframe population"
   ]
  },
  {
   "cell_type": "code",
   "execution_count": 113,
   "metadata": {},
   "outputs": [
    {
     "data": {
      "text/plain": [
       "po_id          0\n",
       "po_source      0\n",
       "              ..\n",
       "po_ag_id_fk    0\n",
       "po_vi_id_fk    0\n",
       "Length: 7, dtype: int64"
      ]
     },
     "execution_count": 113,
     "metadata": {},
     "output_type": "execute_result"
    }
   ],
   "source": [
    "population.isna().sum()"
   ]
  },
  {
   "cell_type": "code",
   "execution_count": 130,
   "metadata": {},
   "outputs": [
    {
     "data": {
      "text/plain": [
       "0"
      ]
     },
     "execution_count": 130,
     "metadata": {},
     "output_type": "execute_result"
    }
   ],
   "source": [
    "population.duplicated().sum()"
   ]
  },
  {
   "cell_type": "markdown",
   "metadata": {},
   "source": [
    "---"
   ]
  },
  {
   "cell_type": "markdown",
   "metadata": {},
   "source": [
    "### Dataframe entreprise"
   ]
  },
  {
   "cell_type": "code",
   "execution_count": 128,
   "metadata": {},
   "outputs": [
    {
     "data": {
      "text/plain": [
       "en_id             0\n",
       "en_siren          0\n",
       "                 ..\n",
       "en_code_postal    0\n",
       "en_vi_id_fk       0\n",
       "Length: 8, dtype: int64"
      ]
     },
     "execution_count": 128,
     "metadata": {},
     "output_type": "execute_result"
    }
   ],
   "source": [
    "entreprise.isna().sum()"
   ]
  },
  {
   "cell_type": "code",
   "execution_count": 131,
   "metadata": {},
   "outputs": [
    {
     "data": {
      "text/plain": [
       "0"
      ]
     },
     "execution_count": 131,
     "metadata": {},
     "output_type": "execute_result"
    }
   ],
   "source": [
    "entreprise.duplicated().sum()"
   ]
  },
  {
   "cell_type": "markdown",
   "metadata": {},
   "source": [
    "---"
   ]
  },
  {
   "cell_type": "markdown",
   "metadata": {},
   "source": [
    "Les jeu de données est complet. Il n'y a pas besoin de droper de doublons par exemple.\n",
    "\n",
    "Nous pouvons procéder à l'intégration des données dans la base de données."
   ]
  },
  {
   "cell_type": "markdown",
   "metadata": {},
   "source": [
    "---"
   ]
  },
  {
   "cell_type": "markdown",
   "metadata": {},
   "source": [
    "# <p style=\"font-family: serif; font-size:2.2em; text-align: center;\"><u>Connexion et insertion des données dans la BDD</u></p> "
   ]
  },
  {
   "cell_type": "markdown",
   "metadata": {},
   "source": [
    "## Connexion à la base de données sur Workbench"
   ]
  },
  {
   "cell_type": "code",
   "execution_count": 47,
   "metadata": {},
   "outputs": [],
   "source": [
    "engine = create_engine('mysql+' + config[\"connector\"] + '://' + config[\"user\"] + \":\" + password + \"@\" + config[\"host\"] + \":\" + config[\"port\"] + \"/\" + config[\"bdd\"], echo=True)"
   ]
  },
  {
   "cell_type": "code",
   "execution_count": 48,
   "metadata": {},
   "outputs": [
    {
     "name": "stdout",
     "output_type": "stream",
     "text": [
      "2020-12-02 22:33:00,731 INFO sqlalchemy.engine.base.Engine SHOW VARIABLES LIKE 'sql_mode'\n",
      "2020-12-02 22:33:00,733 INFO sqlalchemy.engine.base.Engine {}\n",
      "2020-12-02 22:33:00,738 INFO sqlalchemy.engine.base.Engine SHOW VARIABLES LIKE 'lower_case_table_names'\n",
      "2020-12-02 22:33:00,739 INFO sqlalchemy.engine.base.Engine {}\n",
      "2020-12-02 22:33:00,745 INFO sqlalchemy.engine.base.Engine SELECT DATABASE()\n",
      "2020-12-02 22:33:00,748 INFO sqlalchemy.engine.base.Engine {}\n",
      "2020-12-02 22:33:00,754 INFO sqlalchemy.engine.base.Engine show collation where `Charset` = 'utf8mb4' and `Collation` = 'utf8mb4_bin'\n",
      "2020-12-02 22:33:00,757 INFO sqlalchemy.engine.base.Engine {}\n",
      "2020-12-02 22:33:00,764 INFO sqlalchemy.engine.base.Engine SELECT CAST('test plain returns' AS CHAR(60)) AS anon_1\n",
      "2020-12-02 22:33:00,766 INFO sqlalchemy.engine.base.Engine {}\n",
      "2020-12-02 22:33:00,772 INFO sqlalchemy.engine.base.Engine SELECT CAST('test unicode returns' AS CHAR(60)) AS anon_1\n",
      "2020-12-02 22:33:00,777 INFO sqlalchemy.engine.base.Engine {}\n",
      "2020-12-02 22:33:00,780 INFO sqlalchemy.engine.base.Engine SELECT CAST('test collated returns' AS CHAR CHARACTER SET utf8mb4) COLLATE utf8mb4_bin AS anon_1\n",
      "2020-12-02 22:33:00,782 INFO sqlalchemy.engine.base.Engine {}\n",
      "2020-12-02 22:33:00,789 INFO sqlalchemy.engine.base.Engine DESCRIBE `ville`\n",
      "2020-12-02 22:33:00,791 INFO sqlalchemy.engine.base.Engine {}\n",
      "2020-12-02 22:33:00,797 INFO sqlalchemy.engine.base.Engine BEGIN (implicit)\n",
      "2020-12-02 22:33:00,801 INFO sqlalchemy.engine.base.Engine INSERT INTO ville (vi_id, vi_nom) VALUES (%(vi_id)s, %(vi_nom)s)\n",
      "2020-12-02 22:33:00,803 INFO sqlalchemy.engine.base.Engine ({'vi_id': 1, 'vi_nom': 'Cannes'}, {'vi_id': 2, 'vi_nom': 'Le Cannet'}, {'vi_id': 3, 'vi_nom': 'Mougins'}, {'vi_id': 4, 'vi_nom': 'Mandelieu-La-Napoule'}, {'vi_id': 5, 'vi_nom': 'Theoule-Sur-Mer'})\n",
      "2020-12-02 22:33:00,805 INFO sqlalchemy.engine.base.Engine COMMIT\n"
     ]
    }
   ],
   "source": [
    "ville.to_sql('ville', con=engine, if_exists='append', index=False)"
   ]
  },
  {
   "cell_type": "code",
   "execution_count": 49,
   "metadata": {},
   "outputs": [
    {
     "name": "stdout",
     "output_type": "stream",
     "text": [
      "2020-12-02 22:33:00,831 INFO sqlalchemy.engine.base.Engine DESCRIBE `secteur_activite`\n",
      "2020-12-02 22:33:00,833 INFO sqlalchemy.engine.base.Engine {}\n",
      "2020-12-02 22:33:00,841 INFO sqlalchemy.engine.base.Engine BEGIN (implicit)\n",
      "2020-12-02 22:33:00,843 INFO sqlalchemy.engine.base.Engine INSERT INTO secteur_activite (sa_id, sa_nom) VALUES (%(sa_id)s, %(sa_nom)s)\n",
      "2020-12-02 22:33:00,844 INFO sqlalchemy.engine.base.Engine ({'sa_id': 1, 'sa_nom': 'Agriculture, sylviculture et pêche'}, {'sa_id': 2, 'sa_nom': 'Industries extractives'}, {'sa_id': 3, 'sa_nom': 'Industrie manufacturière'}, {'sa_id': 4, 'sa_nom': \"Production et distribution d'électricité, de gaz, de vapeur et d'air conditionné\"}, {'sa_id': 5, 'sa_nom': \"Production et distribution d'eau ; assainissement, gestion des déchets et dépollution\"}, {'sa_id': 6, 'sa_nom': 'Construction'}, {'sa_id': 7, 'sa_nom': \"Commerce ; réparation d'automobiles et de motocycles\"}, {'sa_id': 8, 'sa_nom': 'Transports et entreposage'}  ... displaying 10 of 21 total bound parameter sets ...  {'sa_id': 20, 'sa_nom': \"Activités des ménages en tant qu'employeurs ; activités indifférenciées des ménages en tant que producteurs de biens et services pour usage propre\"}, {'sa_id': 21, 'sa_nom': 'Activités extra-territoriales'})\n",
      "2020-12-02 22:33:00,850 INFO sqlalchemy.engine.base.Engine COMMIT\n"
     ]
    }
   ],
   "source": [
    "secteur_activite.to_sql('secteur_activite', con=engine, if_exists='append', index=False)"
   ]
  },
  {
   "cell_type": "code",
   "execution_count": 50,
   "metadata": {},
   "outputs": [
    {
     "name": "stdout",
     "output_type": "stream",
     "text": [
      "2020-12-02 22:33:00,865 INFO sqlalchemy.engine.base.Engine DESCRIBE `categorie_socio_pro`\n",
      "2020-12-02 22:33:00,867 INFO sqlalchemy.engine.base.Engine {}\n",
      "2020-12-02 22:33:00,877 INFO sqlalchemy.engine.base.Engine BEGIN (implicit)\n",
      "2020-12-02 22:33:00,879 INFO sqlalchemy.engine.base.Engine INSERT INTO categorie_socio_pro (csp_id, csp_nom) VALUES (%(csp_id)s, %(csp_nom)s)\n",
      "2020-12-02 22:33:00,881 INFO sqlalchemy.engine.base.Engine ({'csp_id': 1, 'csp_nom': 'Agriculteurs exploitants'}, {'csp_id': 2, 'csp_nom': 'Artisans. commerçants. chefs entreprise'}, {'csp_id': 3, 'csp_nom': 'Cadres et professions intellectuelles supérieures'}, {'csp_id': 4, 'csp_nom': 'Professions intermédiaires'}, {'csp_id': 5, 'csp_nom': 'Employés'}, {'csp_id': 6, 'csp_nom': 'Ouvriers'}, {'csp_id': 7, 'csp_nom': 'Retraités'}, {'csp_id': 8, 'csp_nom': 'Autres personnes sans activité professionnelle'}, {'csp_id': 9, 'csp_nom': 'Total'})\n",
      "2020-12-02 22:33:00,886 INFO sqlalchemy.engine.base.Engine COMMIT\n"
     ]
    }
   ],
   "source": [
    "categorie_socio_pro.to_sql('categorie_socio_pro', con=engine, if_exists='append', index=False)"
   ]
  },
  {
   "cell_type": "code",
   "execution_count": 51,
   "metadata": {},
   "outputs": [
    {
     "name": "stdout",
     "output_type": "stream",
     "text": [
      "2020-12-02 22:33:00,903 INFO sqlalchemy.engine.base.Engine DESCRIBE `age`\n",
      "2020-12-02 22:33:00,906 INFO sqlalchemy.engine.base.Engine {}\n",
      "2020-12-02 22:33:00,914 INFO sqlalchemy.engine.base.Engine BEGIN (implicit)\n",
      "2020-12-02 22:33:00,916 INFO sqlalchemy.engine.base.Engine INSERT INTO age (ag_id, ag_tranche_age) VALUES (%(ag_id)s, %(ag_tranche_age)s)\n",
      "2020-12-02 22:33:00,918 INFO sqlalchemy.engine.base.Engine ({'ag_id': 1, 'ag_tranche_age': '15 a 24'}, {'ag_id': 2, 'ag_tranche_age': '25 a 54'}, {'ag_id': 3, 'ag_tranche_age': '55 et plus'})\n",
      "2020-12-02 22:33:00,920 INFO sqlalchemy.engine.base.Engine COMMIT\n"
     ]
    }
   ],
   "source": [
    "age.to_sql('age', con=engine, if_exists='append', index=False)"
   ]
  },
  {
   "cell_type": "code",
   "execution_count": 52,
   "metadata": {},
   "outputs": [
    {
     "name": "stdout",
     "output_type": "stream",
     "text": [
      "2020-12-02 22:33:00,943 INFO sqlalchemy.engine.base.Engine DESCRIBE `categorie_logement`\n",
      "2020-12-02 22:33:00,945 INFO sqlalchemy.engine.base.Engine {}\n",
      "2020-12-02 22:33:00,958 INFO sqlalchemy.engine.base.Engine BEGIN (implicit)\n",
      "2020-12-02 22:33:00,960 INFO sqlalchemy.engine.base.Engine INSERT INTO categorie_logement (cl_id, cl_nom) VALUES (%(cl_id)s, %(cl_nom)s)\n",
      "2020-12-02 22:33:00,961 INFO sqlalchemy.engine.base.Engine ({'cl_id': 1, 'cl_nom': 'Résidences principales'}, {'cl_id': 2, 'cl_nom': 'Résid. secondaires et log. occasionnels'}, {'cl_id': 3, 'cl_nom': 'Logements vacants'}, {'cl_id': 4, 'cl_nom': 'Total'})\n",
      "2020-12-02 22:33:00,965 INFO sqlalchemy.engine.base.Engine COMMIT\n"
     ]
    }
   ],
   "source": [
    "categorie_logement.to_sql('categorie_logement', con=engine, if_exists='append', index=False)"
   ]
  },
  {
   "cell_type": "code",
   "execution_count": 53,
   "metadata": {},
   "outputs": [
    {
     "name": "stdout",
     "output_type": "stream",
     "text": [
      "2020-12-02 22:33:00,982 INFO sqlalchemy.engine.base.Engine DESCRIBE `logement`\n",
      "2020-12-02 22:33:00,986 INFO sqlalchemy.engine.base.Engine {}\n",
      "2020-12-02 22:33:00,994 INFO sqlalchemy.engine.base.Engine BEGIN (implicit)\n",
      "2020-12-02 22:33:00,996 INFO sqlalchemy.engine.base.Engine INSERT INTO logement (lo_id, lo_nbre, lo_vi_id_fk, lo_cl_id_fk) VALUES (%(lo_id)s, %(lo_nbre)s, %(lo_vi_id_fk)s, %(lo_cl_id_fk)s)\n",
      "2020-12-02 22:33:01,003 INFO sqlalchemy.engine.base.Engine ({'lo_id': 1, 'lo_nbre': 11339, 'lo_vi_id_fk': 4, 'lo_cl_id_fk': 1}, {'lo_id': 2, 'lo_nbre': 8403, 'lo_vi_id_fk': 3, 'lo_cl_id_fk': 1}, {'lo_id': 3, 'lo_nbre': 21276, 'lo_vi_id_fk': 2, 'lo_cl_id_fk': 1}, {'lo_id': 4, 'lo_nbre': 37735, 'lo_vi_id_fk': 1, 'lo_cl_id_fk': 1}, {'lo_id': 5, 'lo_nbre': 694, 'lo_vi_id_fk': 5, 'lo_cl_id_fk': 1}, {'lo_id': 6, 'lo_nbre': 8694, 'lo_vi_id_fk': 4, 'lo_cl_id_fk': 2}, {'lo_id': 7, 'lo_nbre': 1983, 'lo_vi_id_fk': 3, 'lo_cl_id_fk': 2}, {'lo_id': 8, 'lo_nbre': 4104, 'lo_vi_id_fk': 2, 'lo_cl_id_fk': 2}  ... displaying 10 of 20 total bound parameter sets ...  {'lo_id': 19, 'lo_nbre': 71264, 'lo_vi_id_fk': 1, 'lo_cl_id_fk': 4}, {'lo_id': 20, 'lo_nbre': 3335, 'lo_vi_id_fk': 5, 'lo_cl_id_fk': 4})\n",
      "2020-12-02 22:33:01,008 INFO sqlalchemy.engine.base.Engine COMMIT\n"
     ]
    }
   ],
   "source": [
    "logement.to_sql('logement', con=engine, if_exists='append', index=False)"
   ]
  },
  {
   "cell_type": "code",
   "execution_count": 54,
   "metadata": {},
   "outputs": [
    {
     "name": "stdout",
     "output_type": "stream",
     "text": [
      "2020-12-02 22:33:01,026 INFO sqlalchemy.engine.base.Engine DESCRIBE `population`\n",
      "2020-12-02 22:33:01,029 INFO sqlalchemy.engine.base.Engine {}\n",
      "2020-12-02 22:33:01,039 INFO sqlalchemy.engine.base.Engine BEGIN (implicit)\n",
      "2020-12-02 22:33:01,042 INFO sqlalchemy.engine.base.Engine INSERT INTO population (po_id, po_source, po_annee, po_nbre_pop, po_csp_id_fk, po_ag_id_fk, po_vi_id_fk) VALUES (%(po_id)s, %(po_source)s, %(po_annee)s, %(po_nbre_pop)s, %(po_csp_id_fk)s, %(po_ag_id_fk)s, %(po_vi_id_fk)s)\n",
      "2020-12-02 22:33:01,043 INFO sqlalchemy.engine.base.Engine ({'po_id': 0, 'po_source': 'Insee, Recensement de la population (RP), exploitation complémentaire - 2017', 'po_annee': 2017, 'po_nbre_pop': 0, 'po_csp_id_fk': 1, 'po_ag_id_fk': 1, 'po_vi_id_fk': 4}, {'po_id': 1, 'po_source': 'Insee, Recensement de la population (RP), exploitation complémentaire - 2017', 'po_annee': 2017, 'po_nbre_pop': 0, 'po_csp_id_fk': 1, 'po_ag_id_fk': 1, 'po_vi_id_fk': 3}, {'po_id': 2, 'po_source': 'Insee, Recensement de la population (RP), exploitation complémentaire - 2017', 'po_annee': 2017, 'po_nbre_pop': 0, 'po_csp_id_fk': 1, 'po_ag_id_fk': 1, 'po_vi_id_fk': 2}, {'po_id': 3, 'po_source': 'Insee, Recensement de la population (RP), exploitation complémentaire - 2017', 'po_annee': 2017, 'po_nbre_pop': 0, 'po_csp_id_fk': 1, 'po_ag_id_fk': 1, 'po_vi_id_fk': 1}, {'po_id': 4, 'po_source': 'Insee, Recensement de la population (RP), exploitation complémentaire - 2017', 'po_annee': 2017, 'po_nbre_pop': 0, 'po_csp_id_fk': 1, 'po_ag_id_fk': 1, 'po_vi_id_fk': 5}, {'po_id': 5, 'po_source': 'Insee, Recensement de la population (RP), exploitation complémentaire - 2017', 'po_annee': 2017, 'po_nbre_pop': 16, 'po_csp_id_fk': 2, 'po_ag_id_fk': 1, 'po_vi_id_fk': 4}, {'po_id': 6, 'po_source': 'Insee, Recensement de la population (RP), exploitation complémentaire - 2017', 'po_annee': 2017, 'po_nbre_pop': 34, 'po_csp_id_fk': 2, 'po_ag_id_fk': 1, 'po_vi_id_fk': 3}, {'po_id': 7, 'po_source': 'Insee, Recensement de la population (RP), exploitation complémentaire - 2017', 'po_annee': 2017, 'po_nbre_pop': 26, 'po_csp_id_fk': 2, 'po_ag_id_fk': 1, 'po_vi_id_fk': 2}  ... displaying 10 of 135 total bound parameter sets ...  {'po_id': 133, 'po_source': 'Insee, Recensement de la population (RP), exploitation complémentaire - 2017', 'po_annee': 2017, 'po_nbre_pop': 31161, 'po_csp_id_fk': 9, 'po_ag_id_fk': 3, 'po_vi_id_fk': 1}, {'po_id': 134, 'po_source': 'Insee, Recensement de la population (RP), exploitation complémentaire - 2017', 'po_annee': 2017, 'po_nbre_pop': 623, 'po_csp_id_fk': 9, 'po_ag_id_fk': 3, 'po_vi_id_fk': 5})\n",
      "2020-12-02 22:33:01,060 INFO sqlalchemy.engine.base.Engine COMMIT\n"
     ]
    }
   ],
   "source": [
    "population.to_sql('population', con=engine, if_exists='append', index=False)"
   ]
  },
  {
   "cell_type": "code",
   "execution_count": 55,
   "metadata": {},
   "outputs": [
    {
     "name": "stdout",
     "output_type": "stream",
     "text": [
      "2020-12-02 22:33:01,076 INFO sqlalchemy.engine.base.Engine DESCRIBE `entreprise`\n",
      "2020-12-02 22:33:01,077 INFO sqlalchemy.engine.base.Engine {}\n",
      "2020-12-02 22:33:01,085 INFO sqlalchemy.engine.base.Engine BEGIN (implicit)\n",
      "2020-12-02 22:33:01,122 INFO sqlalchemy.engine.base.Engine INSERT INTO entreprise (en_id, en_siren, en_nic, en_nom, en_sa_id_fk, en_adresse, en_code_postal, en_vi_id_fk) VALUES (%(en_id)s, %(en_siren)s, %(en_nic)s, %(en_nom)s, %(en_sa_id_fk)s, %(en_adresse)s, %(en_code_postal)s, %(en_vi_id_fk)s)\n",
      "2020-12-02 22:33:01,123 INFO sqlalchemy.engine.base.Engine ({'en_id': 631096522, 'en_siren': 6310965, 'en_nic': 22, 'en_nom': None, 'en_sa_id_fk': 12, 'en_adresse': ' av gaston de fontmichel', 'en_code_postal': '06210', 'en_vi_id_fk': 4}, {'en_id': 1558007934, 'en_siren': 15580079, 'en_nic': 34, 'en_nom': 'societe immobiliere walter sperger', 'en_sa_id_fk': 12, 'en_adresse': '2 bd leader', 'en_code_postal': '06150', 'en_vi_id_fk': 1}, {'en_id': 1976012318, 'en_siren': 19760123, 'en_nic': 18, 'en_nom': 'ctim noailles', 'en_sa_id_fk': 14, 'en_adresse': '17 av de grasse', 'en_code_postal': '06400', 'en_vi_id_fk': 1}, {'en_id': 1976014913, 'en_siren': 19760149, 'en_nic': 13, 'en_nom': 'ctim durango', 'en_sa_id_fk': 14, 'en_adresse': '116 bd sadi carnot', 'en_code_postal': '06110', 'en_vi_id_fk': 2}, {'en_id': 1976020611, 'en_siren': 19760206, 'en_nic': 11, 'en_nom': 'ctim residence gallia', 'en_sa_id_fk': 14, 'en_adresse': '27 bd montfleury', 'en_code_postal': '06400', 'en_vi_id_fk': 1}, {'en_id': 1976090910, 'en_siren': 19760909, 'en_nic': 10, 'en_nom': 'ctim grand sud', 'en_sa_id_fk': 14, 'en_adresse': '1 bd sadi carnot', 'en_code_postal': '06110', 'en_vi_id_fk': 2}, {'en_id': 1976121218, 'en_siren': 19761212, 'en_nic': 18, 'en_nom': 'ctim emeraude', 'en_sa_id_fk': 14, 'en_adresse': '7 rue du lac', 'en_code_postal': '06400', 'en_vi_id_fk': 1}, {'en_id': 1976151916, 'en_siren': 19761519, 'en_nic': 16, 'en_nom': 'ctim villa lerina', 'en_sa_id_fk': 14, 'en_adresse': '63 bd de la croisette', 'en_code_postal': '06400', 'en_vi_id_fk': 1}  ... displaying 10 of 2000 total bound parameter sets ...  {'en_id': 32131425412, 'en_siren': 321314254, 'en_nic': 12, 'en_nom': 'soc particuliere janau', 'en_sa_id_fk': 12, 'en_adresse': '70 rue georges clemenceau', 'en_code_postal': '06400', 'en_vi_id_fk': 1}, {'en_id': 32133932717, 'en_siren': 321339327, 'en_nic': 17, 'en_nom': None, 'en_sa_id_fk': 17, 'en_adresse': '23 rue jean de riouffe', 'en_code_postal': '06400', 'en_vi_id_fk': 1})\n",
      "2020-12-02 22:33:01,280 INFO sqlalchemy.engine.base.Engine COMMIT\n"
     ]
    }
   ],
   "source": [
    "entreprise.to_sql('entreprise', con=engine, if_exists='append', index=False)"
   ]
  }
 ],
 "metadata": {
  "kernelspec": {
   "display_name": "Python 3",
   "language": "python",
   "name": "python3"
  },
  "language_info": {
   "codemirror_mode": {
    "name": "ipython",
    "version": 3
   },
   "file_extension": ".py",
   "mimetype": "text/x-python",
   "name": "python",
   "nbconvert_exporter": "python",
   "pygments_lexer": "ipython3",
   "version": "3.7.6"
  }
 },
 "nbformat": 4,
 "nbformat_minor": 4
}
