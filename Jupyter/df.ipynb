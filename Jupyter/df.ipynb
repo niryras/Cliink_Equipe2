{
 "cells": [
  {
   "cell_type": "markdown",
   "metadata": {},
   "source": [
    "# <p style=\"font-family: serif; font-size:2.2em; text-align: center;\"><u>Nettoyage des données</u></p> "
   ]
  },
  {
   "cell_type": "markdown",
   "metadata": {},
   "source": [
    "---"
   ]
  },
  {
   "cell_type": "markdown",
   "metadata": {},
   "source": [
    "# Chargement et description des données"
   ]
  },
  {
   "cell_type": "code",
   "execution_count": 11,
   "metadata": {},
   "outputs": [
    {
     "data": {
      "text/plain": [
       "'/home/simplon/Documents/Cliink_Equipe2/Jupyter'"
      ]
     },
     "execution_count": 11,
     "metadata": {},
     "output_type": "execute_result"
    }
   ],
   "source": [
    "pwd"
   ]
  },
  {
   "cell_type": "raw",
   "metadata": {},
   "source": [
    "Dans la continuité du projet cliiink, nous avons besoin de ressources complementaire dont l'utilité est pour l'analyse approfondie... bla bla bla\n",
    "Les données collectées proviennent (sont issue) de \" ... \"\n",
    "\n",
    "Nous nous basons sur les données diffusée dans le \" ... \"\n",
    "\n",
    "par convenance pure, nous modifions le nombre de lignes à afficher.\n",
    "L'idée est d'éviter que cette analyse se résume à de multples affichages de longs tableaux\n",
    "Dans le cadre du projet, on ne garde que les villes concernée ainsi que les colonnes pertinantes"
   ]
  },
  {
   "cell_type": "code",
   "execution_count": 21,
   "metadata": {},
   "outputs": [
    {
     "name": "stderr",
     "output_type": "stream",
     "text": [
      "/home/simplon/anaconda3/lib/python3.7/site-packages/IPython/core/interactiveshell.py:3063: DtypeWarning: Columns (18,19,47,54,56,71) have mixed types.Specify dtype option on import or set low_memory=False.\n",
      "  interactivity=interactivity, compiler=compiler, result=result)\n"
     ]
    }
   ],
   "source": [
    "# On importe la librairie pandas\n",
    "import pandas as pd\n",
    "# On modifie le nombre de lignes à afficher\n",
    "pd.options.display.max_rows = 5\n",
    "# Lecture dus fichiers\n",
    "si = pd.read_csv(\"../Data/societes-immatriculees-2020.csv\", index_col= 0, sep=';', skiprows=0)\n",
    "data_villes = pd.read_csv(\"../Data/villes_data.csv\", index_col= 0, sep=';', skiprows=0)\n",
    "entreprises_par_sa = pd.read_csv(\"../Data/villes_data.csv\", header=1 ,encoding=\"UTF-8\", sep=',', skiprows=list(range(0, 2)) + list(range(14, 245)), usecols=[i for i in range(12)])\n",
    "entreprises_par_sa_ef = pd.read_csv(\"../Data/villes_data.csv\", header=16 ,encoding=\"UTF-8\", sep=',', skiprows=list(range(15, 19)) + list(range(28, 245)), usecols=[i for i in range(31)])\n",
    "année_2017 = pd.read_csv(\"../Data/villes_data.csv\", header=30 ,encoding=\"UTF-8\", sep=',', skiprows=list(range(29, 34)) + list(range(37, 245)), usecols=[i for i in range(14)])\n",
    "pop_age = pd.read_csv(\"../Data/villes_data.csv\", header=39 ,encoding=\"UTF-8\", sep=',', skiprows=list(range(38, 41)) + list(range(50, 245)), usecols=[i for i in range(13)])\n",
    "CSP_15_24 = pd.read_csv(\"../Data/villes_data.csv\", header=84 ,encoding=\"UTF-8\", sep=',', skiprows=list(range(83, 88)) + list(range(99, 245)), usecols=[i for i in range(6)])\n",
    "CSP_25_54 = pd.read_csv(\"../Data/villes_data.csv\", header=101 ,encoding=\"UTF-8\", sep=',', skiprows=list(range(100, 105)) + list(range(116, 245)), usecols=[i for i in range(6)])\n",
    "CSP_55_plus = pd.read_csv(\"../Data/villes_data.csv\", header=118 ,encoding=\"UTF-8\", sep=',', skiprows=list(range(117, 122)) + list(range(133, 245)), usecols=[i for i in range(6)])\n",
    "emploi_femme = pd.read_csv(\"../Data/villes_data.csv\", header=145 ,encoding=\"UTF-8\", sep=',', skiprows=list(range(145, 150)) + list(range(161, 245)), usecols=[i for i in range(7)])\n",
    "emploi_homme = pd.read_csv(\"../Data/villes_data.csv\", header=162 ,encoding=\"UTF-8\", sep=',', skiprows=list(range(162, 167)) + list(range(178, 245)), usecols=[i for i in range(7)])\n",
    "chomage_sexe = pd.read_csv(\"../Data/villes_data.csv\", header=179 ,encoding=\"UTF-8\", sep=',', skiprows=list(range(179, 184)) + list(range(190, 245)), usecols=[i for i in range(7)])\n",
    "taux_chomage_age = pd.read_csv(\"../Data/villes_data.csv\", header=192 ,encoding=\"UTF-8\", sep=',', skiprows=list(range(191, 196)) + list(range(202, 245)), usecols=[i for i in range(13)])\n",
    "logement_par_catégorie = pd.read_csv(\"../Data/villes_data.csv\", header=220 ,encoding=\"UTF-8\", sep=',', skiprows=list(range(219, 224)) + list(range(230, 245)), usecols=[i for i in range(7)])\n",
    "entreprise_csv = pd.read_csv(\"../Data/etablissements.csv\")\n",
    "# Lecture du fichier code naf\n",
    "code_naf = pd.read_excel(\"../Data/naf2008_liste_n1.xls\", skiprows=list(range(0, 2)))\n",
    "# Lecture du fichier code naf niveau 5\n",
    "naf_5 = pd.read_excel(\"../Data/naf2008_5_niveaux.xls\")"
   ]
  },
  {
   "cell_type": "markdown",
   "metadata": {},
   "source": [
    "---"
   ]
  },
  {
   "cell_type": "markdown",
   "metadata": {},
   "source": [
    "# Création des DataFrames"
   ]
  },
  {
   "cell_type": "markdown",
   "metadata": {},
   "source": [
    "### Création du DataFrame sexe"
   ]
  },
  {
   "cell_type": "code",
   "execution_count": 22,
   "metadata": {},
   "outputs": [],
   "source": [
    "liste_se_id = [1,2]\n",
    "liste_se_nom = [\"homme\", \"femme\"]\n",
    "sexe = pd.DataFrame({'se_id': liste_se_id,\n",
    "                     'se_nom': liste_se_nom})"
   ]
  },
  {
   "cell_type": "code",
   "execution_count": 23,
   "metadata": {},
   "outputs": [
    {
     "data": {
      "text/html": [
       "<div>\n",
       "<style scoped>\n",
       "    .dataframe tbody tr th:only-of-type {\n",
       "        vertical-align: middle;\n",
       "    }\n",
       "\n",
       "    .dataframe tbody tr th {\n",
       "        vertical-align: top;\n",
       "    }\n",
       "\n",
       "    .dataframe thead th {\n",
       "        text-align: right;\n",
       "    }\n",
       "</style>\n",
       "<table border=\"1\" class=\"dataframe\">\n",
       "  <thead>\n",
       "    <tr style=\"text-align: right;\">\n",
       "      <th></th>\n",
       "      <th>se_id</th>\n",
       "      <th>se_nom</th>\n",
       "    </tr>\n",
       "  </thead>\n",
       "  <tbody>\n",
       "    <tr>\n",
       "      <th>0</th>\n",
       "      <td>1</td>\n",
       "      <td>homme</td>\n",
       "    </tr>\n",
       "    <tr>\n",
       "      <th>1</th>\n",
       "      <td>2</td>\n",
       "      <td>femme</td>\n",
       "    </tr>\n",
       "  </tbody>\n",
       "</table>\n",
       "</div>"
      ],
      "text/plain": [
       "   se_id se_nom\n",
       "0      1  homme\n",
       "1      2  femme"
      ]
     },
     "execution_count": 23,
     "metadata": {},
     "output_type": "execute_result"
    }
   ],
   "source": [
    "# Apercu du DataFrame sexe\n",
    "sexe"
   ]
  },
  {
   "cell_type": "markdown",
   "metadata": {},
   "source": [
    "### Création du DataFrame entreprise"
   ]
  },
  {
   "cell_type": "code",
   "execution_count": 24,
   "metadata": {},
   "outputs": [],
   "source": [
    "# On affiche les adresses en minuscule\n",
    "entreprise_csv[\"denominationUniteLegale\"] = entreprise_csv[\"denominationUniteLegale\"].str.lower()\n",
    "# Rectification des code postaux\n",
    "entreprise_csv[\"codePostalEtablissement\"] = \"0\" + entreprise_csv[\"codePostalEtablissement\"].astype(str)\n",
    "# On affiche le nom des villes en minuscule\n",
    "entreprise_csv[\"libelleCommuneEtablissement\"] = entreprise_csv[\"libelleCommuneEtablissement\"].str.lower()\n",
    "# On affiche les abbreviations des types de voie en minuscule\n",
    "entreprise_csv[\"typeVoieEtablissement\"] = entreprise_csv[\"typeVoieEtablissement\"].str.lower()\n",
    "# On affiche les nom des rue en minuscule\n",
    "entreprise_csv[\"libelleVoieEtablissement\"] = entreprise_csv[\"libelleVoieEtablissement\"].str.lower()"
   ]
  },
  {
   "cell_type": "code",
   "execution_count": 25,
   "metadata": {},
   "outputs": [],
   "source": [
    "# Création du dictionnaire naf\n",
    "naf = {}\n",
    "for i in naf_5.index:\n",
    "    # Ajout paire clé-valeur\n",
    "    naf.update({naf_5.iloc[i]['NIV5']: naf_5.loc[i]['NIV1']})\n",
    "\n",
    "# Création du dictionnaire secteur d'activité\n",
    "SectAct = {}\n",
    "for i in code_naf.index:\n",
    "    # Ajout paire clé-valeur\n",
    "    SectAct.update({code_naf.iloc[i]['Code']: code_naf.index[i]+1})"
   ]
  },
  {
   "cell_type": "code",
   "execution_count": 26,
   "metadata": {},
   "outputs": [],
   "source": [
    "# Création du DataFrame entreprise\n",
    "entreprise = pd.DataFrame(columns =['en_id','en_siren','en_nic', 'en_nom', 'en_sa_fk', 'en_adresse', 'en_code_postal', 'en_ville'])\n",
    "\n",
    "\n",
    "#for i in entreprise_csv.index:\n",
    "for i in range(2000):\n",
    "    en_id = str(entreprise_csv.loc[i][\"siren\"]) + str(entreprise_csv.loc[i][\"nic\"])\n",
    "    siren = entreprise_csv.iloc[i]['siren']\n",
    "    nic = entreprise_csv.iloc[i]['nic']\n",
    "    nom = entreprise_csv.iloc[i]['denominationUniteLegale']\n",
    "    # Utilisation du dictionaire naf pour répertorier les secteurs d'activité\n",
    "    a = naf[entreprise_csv.loc[i][\"activitePrincipaleEtablissement\"]]\n",
    "    # Utilisation du dictionaire naf SectAct pour réferencer le secteur d'activité\n",
    "    secteur_activite = SectAct[a]\n",
    "    # Ici on test si le numero de voie est non nul/ si oui on le remplace par un str vide\n",
    "    adresse = (''if pd.isna(entreprise_csv.iloc[i]['numeroVoieEtablissement'])\n",
    "    # /sinon on le transforme en int pour supprimer les chiffres apres la virgule puis en str\n",
    " else str(int(entreprise_csv.iloc[i]['numeroVoieEtablissement'])))+\" \"+str(entreprise_csv.loc[i][\"typeVoieEtablissement\"])+\" \"+str(entreprise_csv.loc[i][\"libelleVoieEtablissement\"])\n",
    "    code_postal = entreprise_csv.loc[i][\"codePostalEtablissement\"]\n",
    "    ville = entreprise_csv.loc[i][\"libelleCommuneEtablissement\"]\n",
    "    \n",
    "    df = pd.DataFrame({'en_id': en_id,\n",
    "                           'en_siren': siren,\n",
    "                           'en_nic': nic,\n",
    "                           'en_nom': nom,\n",
    "                           'en_sa_fk': secteur_activite,\n",
    "                           'en_adresse': adresse,\n",
    "                           'en_code_postal':code_postal,\n",
    "                           'en_ville':ville}, columns = ['en_id','en_siren', 'en_nic', 'en_nom', 'en_sa_fk', 'en_adresse', 'en_code_postal', 'en_ville'], index = [0])\n",
    "    entreprise = entreprise.append(df, ignore_index=True)"
   ]
  },
  {
   "cell_type": "code",
   "execution_count": 28,
   "metadata": {},
   "outputs": [
    {
     "data": {
      "text/html": [
       "<div>\n",
       "<style scoped>\n",
       "    .dataframe tbody tr th:only-of-type {\n",
       "        vertical-align: middle;\n",
       "    }\n",
       "\n",
       "    .dataframe tbody tr th {\n",
       "        vertical-align: top;\n",
       "    }\n",
       "\n",
       "    .dataframe thead th {\n",
       "        text-align: right;\n",
       "    }\n",
       "</style>\n",
       "<table border=\"1\" class=\"dataframe\">\n",
       "  <thead>\n",
       "    <tr style=\"text-align: right;\">\n",
       "      <th></th>\n",
       "      <th>en_id</th>\n",
       "      <th>en_siren</th>\n",
       "      <th>en_nic</th>\n",
       "      <th>en_nom</th>\n",
       "      <th>en_sa_fk</th>\n",
       "      <th>en_adresse</th>\n",
       "      <th>en_code_postal</th>\n",
       "      <th>en_ville</th>\n",
       "    </tr>\n",
       "  </thead>\n",
       "  <tbody>\n",
       "    <tr>\n",
       "      <th>0</th>\n",
       "      <td>631096522</td>\n",
       "      <td>6310965</td>\n",
       "      <td>22</td>\n",
       "      <td>NaN</td>\n",
       "      <td>12</td>\n",
       "      <td>av gaston de fontmichel</td>\n",
       "      <td>06210</td>\n",
       "      <td>mandelieu-la-napoule</td>\n",
       "    </tr>\n",
       "    <tr>\n",
       "      <th>1</th>\n",
       "      <td>1558007934</td>\n",
       "      <td>15580079</td>\n",
       "      <td>34</td>\n",
       "      <td>societe immobiliere walter sperger</td>\n",
       "      <td>12</td>\n",
       "      <td>2 bd leader</td>\n",
       "      <td>06150</td>\n",
       "      <td>cannes</td>\n",
       "    </tr>\n",
       "    <tr>\n",
       "      <th>...</th>\n",
       "      <td>...</td>\n",
       "      <td>...</td>\n",
       "      <td>...</td>\n",
       "      <td>...</td>\n",
       "      <td>...</td>\n",
       "      <td>...</td>\n",
       "      <td>...</td>\n",
       "      <td>...</td>\n",
       "    </tr>\n",
       "    <tr>\n",
       "      <th>1998</th>\n",
       "      <td>32131425412</td>\n",
       "      <td>321314254</td>\n",
       "      <td>12</td>\n",
       "      <td>soc particuliere janau</td>\n",
       "      <td>12</td>\n",
       "      <td>70 rue georges clemenceau</td>\n",
       "      <td>06400</td>\n",
       "      <td>cannes</td>\n",
       "    </tr>\n",
       "    <tr>\n",
       "      <th>1999</th>\n",
       "      <td>32133932717</td>\n",
       "      <td>321339327</td>\n",
       "      <td>17</td>\n",
       "      <td>NaN</td>\n",
       "      <td>17</td>\n",
       "      <td>23 rue jean de riouffe</td>\n",
       "      <td>06400</td>\n",
       "      <td>cannes</td>\n",
       "    </tr>\n",
       "  </tbody>\n",
       "</table>\n",
       "<p>2000 rows × 8 columns</p>\n",
       "</div>"
      ],
      "text/plain": [
       "            en_id   en_siren en_nic                              en_nom  \\\n",
       "0       631096522    6310965     22                                 NaN   \n",
       "1      1558007934   15580079     34  societe immobiliere walter sperger   \n",
       "...           ...        ...    ...                                 ...   \n",
       "1998  32131425412  321314254     12              soc particuliere janau   \n",
       "1999  32133932717  321339327     17                                 NaN   \n",
       "\n",
       "     en_sa_fk                 en_adresse en_code_postal              en_ville  \n",
       "0          12    av gaston de fontmichel          06210  mandelieu-la-napoule  \n",
       "1          12                2 bd leader          06150                cannes  \n",
       "...       ...                        ...            ...                   ...  \n",
       "1998       12  70 rue georges clemenceau          06400                cannes  \n",
       "1999       17     23 rue jean de riouffe          06400                cannes  \n",
       "\n",
       "[2000 rows x 8 columns]"
      ]
     },
     "execution_count": 28,
     "metadata": {},
     "output_type": "execute_result"
    }
   ],
   "source": [
    "# Apercu du DataFrame entreprise\n",
    "entreprise"
   ]
  },
  {
   "cell_type": "markdown",
   "metadata": {},
   "source": [
    "### Création du DataFrame secteur_activite"
   ]
  },
  {
   "cell_type": "code",
   "execution_count": 19,
   "metadata": {},
   "outputs": [],
   "source": [
    "# On utilise le fichier code naf pour le DataFrame secteur activité\n",
    "secteur_activite = pd.DataFrame(code_naf, columns = [\"sa_id\", \"Libellé\"])\n",
    "secteur_activite[\"sa_id\"] = secteur_activite.index + 1\n",
    "secteur_activite.rename(columns={\"Libellé\": \"sa_nom\"},inplace=True)"
   ]
  },
  {
   "cell_type": "code",
   "execution_count": 20,
   "metadata": {},
   "outputs": [
    {
     "data": {
      "text/html": [
       "<div>\n",
       "<style scoped>\n",
       "    .dataframe tbody tr th:only-of-type {\n",
       "        vertical-align: middle;\n",
       "    }\n",
       "\n",
       "    .dataframe tbody tr th {\n",
       "        vertical-align: top;\n",
       "    }\n",
       "\n",
       "    .dataframe thead th {\n",
       "        text-align: right;\n",
       "    }\n",
       "</style>\n",
       "<table border=\"1\" class=\"dataframe\">\n",
       "  <thead>\n",
       "    <tr style=\"text-align: right;\">\n",
       "      <th></th>\n",
       "      <th>sa_id</th>\n",
       "      <th>sa_nom</th>\n",
       "    </tr>\n",
       "  </thead>\n",
       "  <tbody>\n",
       "    <tr>\n",
       "      <th>0</th>\n",
       "      <td>1</td>\n",
       "      <td>Agriculture, sylviculture et pêche</td>\n",
       "    </tr>\n",
       "    <tr>\n",
       "      <th>1</th>\n",
       "      <td>2</td>\n",
       "      <td>Industries extractives</td>\n",
       "    </tr>\n",
       "    <tr>\n",
       "      <th>...</th>\n",
       "      <td>...</td>\n",
       "      <td>...</td>\n",
       "    </tr>\n",
       "    <tr>\n",
       "      <th>19</th>\n",
       "      <td>20</td>\n",
       "      <td>Activités des ménages en tant qu'employeurs ; ...</td>\n",
       "    </tr>\n",
       "    <tr>\n",
       "      <th>20</th>\n",
       "      <td>21</td>\n",
       "      <td>Activités extra-territoriales</td>\n",
       "    </tr>\n",
       "  </tbody>\n",
       "</table>\n",
       "<p>21 rows × 2 columns</p>\n",
       "</div>"
      ],
      "text/plain": [
       "    sa_id                                             sa_nom\n",
       "0       1                 Agriculture, sylviculture et pêche\n",
       "1       2                             Industries extractives\n",
       "..    ...                                                ...\n",
       "19     20  Activités des ménages en tant qu'employeurs ; ...\n",
       "20     21                      Activités extra-territoriales\n",
       "\n",
       "[21 rows x 2 columns]"
      ]
     },
     "execution_count": 20,
     "metadata": {},
     "output_type": "execute_result"
    }
   ],
   "source": [
    "# Apercu du DataFrame esecteur_activite\n",
    "secteur_activite"
   ]
  },
  {
   "cell_type": "code",
   "execution_count": 32,
   "metadata": {},
   "outputs": [],
   "source": [
    "liste_ville_id = [1,2,3,4,5]\n",
    "liste_ville_nom = ['Cannes', 'Le Cannet', 'Mougins', 'Mandelieu', 'Théoule sur Mer']\n",
    "ville = pd.DataFrame({'vi_id': liste_ville_id,\n",
    "                      'vi_nom' : liste_ville_nom })"
   ]
  },
  {
   "cell_type": "code",
   "execution_count": 33,
   "metadata": {},
   "outputs": [
    {
     "data": {
      "text/html": [
       "<div>\n",
       "<style scoped>\n",
       "    .dataframe tbody tr th:only-of-type {\n",
       "        vertical-align: middle;\n",
       "    }\n",
       "\n",
       "    .dataframe tbody tr th {\n",
       "        vertical-align: top;\n",
       "    }\n",
       "\n",
       "    .dataframe thead th {\n",
       "        text-align: right;\n",
       "    }\n",
       "</style>\n",
       "<table border=\"1\" class=\"dataframe\">\n",
       "  <thead>\n",
       "    <tr style=\"text-align: right;\">\n",
       "      <th></th>\n",
       "      <th>vi_id</th>\n",
       "      <th>vi_nom</th>\n",
       "    </tr>\n",
       "  </thead>\n",
       "  <tbody>\n",
       "    <tr>\n",
       "      <th>0</th>\n",
       "      <td>1</td>\n",
       "      <td>Cannes</td>\n",
       "    </tr>\n",
       "    <tr>\n",
       "      <th>1</th>\n",
       "      <td>2</td>\n",
       "      <td>Le Cannet</td>\n",
       "    </tr>\n",
       "    <tr>\n",
       "      <th>2</th>\n",
       "      <td>3</td>\n",
       "      <td>Mougins</td>\n",
       "    </tr>\n",
       "    <tr>\n",
       "      <th>3</th>\n",
       "      <td>4</td>\n",
       "      <td>Mandelieu</td>\n",
       "    </tr>\n",
       "    <tr>\n",
       "      <th>4</th>\n",
       "      <td>5</td>\n",
       "      <td>Théoule sur Mer</td>\n",
       "    </tr>\n",
       "  </tbody>\n",
       "</table>\n",
       "</div>"
      ],
      "text/plain": [
       "   vi_id           vi_nom\n",
       "0      1           Cannes\n",
       "1      2        Le Cannet\n",
       "2      3          Mougins\n",
       "3      4        Mandelieu\n",
       "4      5  Théoule sur Mer"
      ]
     },
     "execution_count": 33,
     "metadata": {},
     "output_type": "execute_result"
    }
   ],
   "source": [
    "ville"
   ]
  },
  {
   "cell_type": "code",
   "execution_count": null,
   "metadata": {},
   "outputs": [],
   "source": []
  },
  {
   "cell_type": "markdown",
   "metadata": {},
   "source": [
    "### Création du DataFrame sexe"
   ]
  },
  {
   "cell_type": "code",
   "execution_count": 29,
   "metadata": {},
   "outputs": [],
   "source": [
    "liste_se_id = [1,2]\n",
    "liste_se_nom = [\"homme\", \"femme\"]\n",
    "sexe = pd.DataFrame({'se_id': liste_se_id,\n",
    "                     'se_nom': liste_se_nom})"
   ]
  },
  {
   "cell_type": "code",
   "execution_count": 30,
   "metadata": {},
   "outputs": [
    {
     "data": {
      "text/html": [
       "<div>\n",
       "<style scoped>\n",
       "    .dataframe tbody tr th:only-of-type {\n",
       "        vertical-align: middle;\n",
       "    }\n",
       "\n",
       "    .dataframe tbody tr th {\n",
       "        vertical-align: top;\n",
       "    }\n",
       "\n",
       "    .dataframe thead th {\n",
       "        text-align: right;\n",
       "    }\n",
       "</style>\n",
       "<table border=\"1\" class=\"dataframe\">\n",
       "  <thead>\n",
       "    <tr style=\"text-align: right;\">\n",
       "      <th></th>\n",
       "      <th>se_id</th>\n",
       "      <th>se_nom</th>\n",
       "    </tr>\n",
       "  </thead>\n",
       "  <tbody>\n",
       "    <tr>\n",
       "      <th>0</th>\n",
       "      <td>1</td>\n",
       "      <td>homme</td>\n",
       "    </tr>\n",
       "    <tr>\n",
       "      <th>1</th>\n",
       "      <td>2</td>\n",
       "      <td>femme</td>\n",
       "    </tr>\n",
       "  </tbody>\n",
       "</table>\n",
       "</div>"
      ],
      "text/plain": [
       "   se_id se_nom\n",
       "0      1  homme\n",
       "1      2  femme"
      ]
     },
     "execution_count": 30,
     "metadata": {},
     "output_type": "execute_result"
    }
   ],
   "source": [
    "sexe"
   ]
  },
  {
   "cell_type": "code",
   "execution_count": null,
   "metadata": {},
   "outputs": [],
   "source": []
  },
  {
   "cell_type": "code",
   "execution_count": null,
   "metadata": {},
   "outputs": [],
   "source": []
  },
  {
   "cell_type": "code",
   "execution_count": null,
   "metadata": {},
   "outputs": [],
   "source": []
  }
 ],
 "metadata": {
  "kernelspec": {
   "display_name": "Python 3",
   "language": "python",
   "name": "python3"
  },
  "language_info": {
   "codemirror_mode": {
    "name": "ipython",
    "version": 3
   },
   "file_extension": ".py",
   "mimetype": "text/x-python",
   "name": "python",
   "nbconvert_exporter": "python",
   "pygments_lexer": "ipython3",
   "version": "3.7.6"
  }
 },
 "nbformat": 4,
 "nbformat_minor": 4
}
