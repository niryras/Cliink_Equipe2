{
 "cells": [
  {
   "cell_type": "code",
   "execution_count": 1,
   "metadata": {},
   "outputs": [
    {
     "ename": "SyntaxError",
     "evalue": "invalid syntax (<ipython-input-1-0d7c543a3604>, line 1)",
     "output_type": "error",
     "traceback": [
      "\u001b[0;36m  File \u001b[0;32m\"<ipython-input-1-0d7c543a3604>\"\u001b[0;36m, line \u001b[0;32m1\u001b[0m\n\u001b[0;31m    <!DOCTYPE html>\u001b[0m\n\u001b[0m    ^\u001b[0m\n\u001b[0;31mSyntaxError\u001b[0m\u001b[0;31m:\u001b[0m invalid syntax\n"
     ]
    }
   ],
   "source": [
    "<!DOCTYPE html>\n",
    "<html lang=\"en\">\n",
    "<head>\n",
    "    <meta charset=\"UTF-8\">\n",
    "    <title>Ciao flask</title>\n",
    "    <link rel=\"stylesheet\" href=\"https://cdn.jsdelivr.net/npm/bootstrap@4.5.3/dist/css/bootstrap.min.css\" integrity=\"sha384-TX8t27EcRE3e/ihU7zmQxVncDAy5uIKz4rEkgIXeMed4M0jlfIDPvg6uqKI2xXr2\" crossorigin=\"anonymous\">\n",
    "</head>\n",
    "<body>\n",
    "    <nav class=\"navbar navbar-expand-lg navbar-light bg-light\">\n",
    "      <a class=\"navbar-brand\" href=\"#\">Navbar</a>\n",
    "      <button class=\"navbar-toggler\" type=\"button\" data-toggle=\"collapse\" data-target=\"#navbarSupportedContent\" aria-controls=\"navbarSupportedContent\" aria-expanded=\"false\" aria-label=\"Toggle navigation\">\n",
    "        <span class=\"navbar-toggler-icon\"></span>\n",
    "      </button>\n",
    "\n",
    "      <div class=\"collapse navbar-collapse\" id=\"navbarSupportedContent\">\n",
    "        <ul class=\"navbar-nav mr-auto\">\n",
    "          <li class=\"nav-item active\">\n",
    "            <a class=\"nav-link\" href=\"#\">Home <span class=\"sr-only\">(current)</span></a>\n",
    "          </li>\n",
    "          <li class=\"nav-item\">\n",
    "            <a class=\"nav-link\" href=\"#\">Link</a>\n",
    "          </li>\n",
    "          <li class=\"nav-item dropdown\">\n",
    "            <a class=\"nav-link dropdown-toggle\" href=\"#\" id=\"navbarDropdown\" role=\"button\" data-toggle=\"dropdown\" aria-haspopup=\"true\" aria-expanded=\"false\">\n",
    "              Dropdown\n",
    "            </a>\n",
    "            <div class=\"dropdown-menu\" aria-labelledby=\"navbarDropdown\">\n",
    "              <a class=\"dropdown-item\" href=\"#\">Action</a>\n",
    "              <a class=\"dropdown-item\" href=\"#\">Another action</a>\n",
    "              <div class=\"dropdown-divider\"></div>\n",
    "              <a class=\"dropdown-item\" href=\"#\">Something else here</a>\n",
    "            </div>\n",
    "          </li>\n",
    "          <li class=\"nav-item\">\n",
    "            <a class=\"nav-link disabled\" href=\"#\" tabindex=\"-1\" aria-disabled=\"true\">Disabled</a>\n",
    "          </li>\n",
    "        </ul>\n",
    "        <form class=\"form-inline my-2 my-lg-0\">\n",
    "          <input class=\"form-control mr-sm-2\" type=\"search\" placeholder=\"Search\" aria-label=\"Search\">\n",
    "          <button class=\"btn btn-outline-success my-2 my-sm-0\" type=\"submit\">Search</button>\n",
    "        </form>\n",
    "      </div>\n",
    "    </nav>\n",
    "    <h1>{% block title %}{% endblock %}</h1>\n",
    "\n",
    "    <script src=\"https://code.jquery.com/jquery-3.5.1.slim.min.js\" integrity=\"sha384-DfXdz2htPH0lsSSs5nCTpuj/zy4C+OGpamoFVy38MVBnE+IbbVYUew+OrCXaRkfj\" crossorigin=\"anonymous\"></script>\n",
    "    <script src=\"https://cdn.jsdelivr.net/npm/bootstrap@4.5.3/dist/js/bootstrap.bundle.min.js\" integrity=\"sha384-ho+j7jyWK8fNQe+A12Hb8AhRq26LrZ/JpcUGGOn+Y7RsweNrtN/tE3MoK7ZeZDyx\" crossorigin=\"anonymous\"></script>\n",
    "\n",
    "</body>\n",
    "</html>"
   ]
  },
  {
   "cell_type": "code",
   "execution_count": null,
   "metadata": {},
   "outputs": [],
   "source": []
  }
 ],
 "metadata": {
  "kernelspec": {
   "display_name": "Python 3",
   "language": "python",
   "name": "python3"
  },
  "language_info": {
   "codemirror_mode": {
    "name": "ipython",
    "version": 3
   },
   "file_extension": ".py",
   "mimetype": "text/x-python",
   "name": "python",
   "nbconvert_exporter": "python",
   "pygments_lexer": "ipython3",
   "version": "3.7.6"
  }
 },
 "nbformat": 4,
 "nbformat_minor": 4
}
